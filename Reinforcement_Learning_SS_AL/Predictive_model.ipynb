{
  "nbformat": 4,
  "nbformat_minor": 0,
  "metadata": {
    "colab": {
      "provenance": [],
      "gpuType": "T4"
    },
    "kernelspec": {
      "name": "python3",
      "display_name": "Python 3"
    },
    "language_info": {
      "name": "python"
    },
    "accelerator": "GPU"
  },
  "cells": [
    {
      "cell_type": "code",
      "source": [
        "!pip install rdkit"
      ],
      "metadata": {
        "colab": {
          "base_uri": "https://localhost:8080/"
        },
        "id": "24uzAzvkjRCl",
        "outputId": "7a55c0d1-bff9-46ca-8273-9ac9bd231fd7"
      },
      "execution_count": 1,
      "outputs": [
        {
          "output_type": "stream",
          "name": "stdout",
          "text": [
            "Collecting rdkit\n",
            "  Downloading rdkit-2023.9.2-cp310-cp310-manylinux_2_17_x86_64.manylinux2014_x86_64.whl (30.5 MB)\n",
            "\u001b[2K     \u001b[90m━━━━━━━━━━━━━━━━━━━━━━━━━━━━━━━━━━━━━━━━\u001b[0m \u001b[32m30.5/30.5 MB\u001b[0m \u001b[31m54.4 MB/s\u001b[0m eta \u001b[36m0:00:00\u001b[0m\n",
            "\u001b[?25hRequirement already satisfied: numpy in /usr/local/lib/python3.10/dist-packages (from rdkit) (1.23.5)\n",
            "Requirement already satisfied: Pillow in /usr/local/lib/python3.10/dist-packages (from rdkit) (9.4.0)\n",
            "Installing collected packages: rdkit\n",
            "Successfully installed rdkit-2023.9.2\n"
          ]
        }
      ]
    },
    {
      "cell_type": "code",
      "source": [
        "from rdkit import Chem\n",
        "from rdkit.Chem import Draw\n",
        "from rdkit.Chem import Descriptors\n",
        "\n",
        "import matplotlib.pyplot as plt\n",
        "import pandas as pd\n",
        "import numpy as np\n",
        "\n",
        "from keras import models\n",
        "from keras import optimizers\n",
        "from keras import Input\n",
        "from keras.models import Sequential, load_model\n",
        "from keras.layers import Dense, Dropout, BatchNormalization\n",
        "from keras.callbacks import EarlyStopping, ModelCheckpoint\n",
        "\n",
        "from sklearn.model_selection import train_test_split\n",
        "from sklearn.preprocessing import StandardScaler\n",
        "import sklearn.metrics as metrics\n",
        "\n",
        "import pickle"
      ],
      "metadata": {
        "id": "bgLjcs3JjMml"
      },
      "execution_count": 2,
      "outputs": []
    },
    {
      "cell_type": "code",
      "source": [
        "df = pd.read_csv(\"Solubility.csv\")"
      ],
      "metadata": {
        "id": "R7P2lymIlODV"
      },
      "execution_count": 4,
      "outputs": []
    },
    {
      "cell_type": "code",
      "source": [
        "df"
      ],
      "metadata": {
        "colab": {
          "base_uri": "https://localhost:8080/",
          "height": 617
        },
        "id": "ZEZ0EYYH7YPR",
        "outputId": "5ac224b5-8b4b-4f82-c464-12efab4f6504"
      },
      "execution_count": 5,
      "outputs": [
        {
          "output_type": "execute_result",
          "data": {
            "text/plain": [
              "        ID                                               Name  \\\n",
              "0      A-3         N,N,N-trimethyloctadecan-1-aminium bromide   \n",
              "1      A-4                           Benzo[cd]indol-2(1H)-one   \n",
              "2      A-5                               4-chlorobenzaldehyde   \n",
              "3      A-8  zinc bis[2-hydroxy-3,5-bis(1-phenylethyl)benzo...   \n",
              "4      A-9  4-({4-[bis(oxiran-2-ylmethyl)amino]phenyl}meth...   \n",
              "...    ...                                                ...   \n",
              "9977  I-84                                         tetracaine   \n",
              "9978  I-85                                       tetracycline   \n",
              "9979  I-86                                             thymol   \n",
              "9980  I-93                                          verapamil   \n",
              "9981  I-94                                           warfarin   \n",
              "\n",
              "                                                  InChI  \\\n",
              "0     InChI=1S/C21H46N.BrH/c1-5-6-7-8-9-10-11-12-13-...   \n",
              "1     InChI=1S/C11H7NO/c13-11-8-5-1-3-7-4-2-6-9(12-1...   \n",
              "2           InChI=1S/C7H5ClO/c8-7-3-1-6(5-9)2-4-7/h1-5H   \n",
              "3     InChI=1S/2C23H22O3.Zn/c2*1-15(17-9-5-3-6-10-17...   \n",
              "4     InChI=1S/C25H30N2O4/c1-5-20(26(10-22-14-28-22)...   \n",
              "...                                                 ...   \n",
              "9977  InChI=1S/C15H24N2O2/c1-4-5-10-16-14-8-6-13(7-9...   \n",
              "9978  InChI=1S/C22H24N2O8/c1-21(31)8-5-4-6-11(25)12(...   \n",
              "9979  InChI=1S/C10H14O/c1-7(2)9-5-4-8(3)6-10(9)11/h4...   \n",
              "9980  InChI=1S/C27H38N2O4/c1-20(2)27(19-28,22-10-12-...   \n",
              "9981  InChI=1S/C19H16O4/c1-12(20)11-15(13-7-3-2-4-8-...   \n",
              "\n",
              "                         InChIKey  \\\n",
              "0     SZEMGTQCPRNXEG-UHFFFAOYSA-M   \n",
              "1     GPYLCFQEKPUWLD-UHFFFAOYSA-N   \n",
              "2     AVPYQKSLYISFPO-UHFFFAOYSA-N   \n",
              "3     XTUPUYCJWKHGSW-UHFFFAOYSA-L   \n",
              "4     FAUAZXVRLVIARB-UHFFFAOYSA-N   \n",
              "...                           ...   \n",
              "9977  GKCBAIGFKIBETG-UHFFFAOYSA-N   \n",
              "9978  OFVLGDICTFRJMM-WESIUVDSSA-N   \n",
              "9979  MGSRCZKZVOBKFT-UHFFFAOYSA-N   \n",
              "9980  SGTNSNPWRIOYBX-UHFFFAOYSA-N   \n",
              "9981  PJVWKTKQMONHTI-UHFFFAOYSA-N   \n",
              "\n",
              "                                                 SMILES  Solubility        SD  \\\n",
              "0                   [Br-].CCCCCCCCCCCCCCCCCC[N+](C)(C)C   -3.616127  0.000000   \n",
              "1                                  O=C1Nc2cccc3cccc1c23   -3.254767  0.000000   \n",
              "2                                       Clc1ccc(C=O)cc1   -2.177078  0.000000   \n",
              "3     [Zn++].CC(c1ccccc1)c2cc(C(C)c3ccccc3)c(O)c(c2)...   -3.924409  0.000000   \n",
              "4     C1OC1CN(CC2CO2)c3ccc(Cc4ccc(cc4)N(CC5CO5)CC6CO...   -4.662065  0.000000   \n",
              "...                                                 ...         ...       ...   \n",
              "9977                     C(c1ccc(cc1)NCCCC)(=O)OCCN(C)C   -3.010000  0.000000   \n",
              "9978  OC1=C(C(C2=C(O)[C@@](C(C(C(N)=O)=C(O)[C@H]3N(C...   -2.930000  0.000000   \n",
              "9979                                c1(cc(ccc1C(C)C)C)O   -2.190000  0.019222   \n",
              "9980  COc1ccc(CCN(C)CCCC(C#N)(C(C)C)c2ccc(OC)c(OC)c2...   -3.980000  0.000000   \n",
              "9981              CC(=O)CC(c1ccccc1)c1c(O)c2ccccc2oc1=O   -4.780000  0.450506   \n",
              "\n",
              "      Ocurrences Group    MolWt  ...  NumRotatableBonds  NumValenceElectrons  \\\n",
              "0              1    G1  392.510  ...                 17                  142   \n",
              "1              1    G1  169.183  ...                  0                   62   \n",
              "2              1    G1  140.569  ...                  1                   46   \n",
              "3              1    G1  756.226  ...                 10                  264   \n",
              "4              1    G1  422.525  ...                 12                  164   \n",
              "...          ...   ...      ...  ...                ...                  ...   \n",
              "9977           1    G1  264.369  ...                  8                  106   \n",
              "9978           1    G1  444.440  ...                  2                  170   \n",
              "9979           3    G5  150.221  ...                  1                   60   \n",
              "9980           1    G1  454.611  ...                 13                  180   \n",
              "9981           3    G5  308.333  ...                  4                  116   \n",
              "\n",
              "      NumAromaticRings  NumSaturatedRings  NumAliphaticRings  RingCount  \\\n",
              "0                    0                  0                  0          0   \n",
              "1                    2                  0                  1          3   \n",
              "2                    1                  0                  0          1   \n",
              "3                    6                  0                  0          6   \n",
              "4                    2                  4                  4          6   \n",
              "...                ...                ...                ...        ...   \n",
              "9977                 1                  0                  0          1   \n",
              "9978                 1                  0                  3          4   \n",
              "9979                 1                  0                  0          1   \n",
              "9980                 2                  0                  0          2   \n",
              "9981                 3                  0                  0          3   \n",
              "\n",
              "        TPSA   LabuteASA      BalabanJ      BertzCT  \n",
              "0       0.00  158.520601  0.000000e+00   210.377334  \n",
              "1      29.10   75.183563  2.582996e+00   511.229248  \n",
              "2      17.07   58.261134  3.009782e+00   202.661065  \n",
              "3     120.72  323.755434  2.320000e-07  1964.648666  \n",
              "4      56.60  183.183268  1.084427e+00   769.899934  \n",
              "...      ...         ...           ...          ...  \n",
              "9977   41.57  115.300645  2.394548e+00   374.236894  \n",
              "9978  181.62  182.429237  2.047922e+00  1148.584975  \n",
              "9979   20.23   67.685405  3.092720e+00   251.049732  \n",
              "9980   63.95  198.569223  2.023333e+00   938.203977  \n",
              "9981   67.51  132.552025  2.258072e+00   909.550973  \n",
              "\n",
              "[9982 rows x 26 columns]"
            ],
            "text/html": [
              "\n",
              "  <div id=\"df-a9e5b418-05ca-4c12-9eaf-ec78237026fd\" class=\"colab-df-container\">\n",
              "    <div>\n",
              "<style scoped>\n",
              "    .dataframe tbody tr th:only-of-type {\n",
              "        vertical-align: middle;\n",
              "    }\n",
              "\n",
              "    .dataframe tbody tr th {\n",
              "        vertical-align: top;\n",
              "    }\n",
              "\n",
              "    .dataframe thead th {\n",
              "        text-align: right;\n",
              "    }\n",
              "</style>\n",
              "<table border=\"1\" class=\"dataframe\">\n",
              "  <thead>\n",
              "    <tr style=\"text-align: right;\">\n",
              "      <th></th>\n",
              "      <th>ID</th>\n",
              "      <th>Name</th>\n",
              "      <th>InChI</th>\n",
              "      <th>InChIKey</th>\n",
              "      <th>SMILES</th>\n",
              "      <th>Solubility</th>\n",
              "      <th>SD</th>\n",
              "      <th>Ocurrences</th>\n",
              "      <th>Group</th>\n",
              "      <th>MolWt</th>\n",
              "      <th>...</th>\n",
              "      <th>NumRotatableBonds</th>\n",
              "      <th>NumValenceElectrons</th>\n",
              "      <th>NumAromaticRings</th>\n",
              "      <th>NumSaturatedRings</th>\n",
              "      <th>NumAliphaticRings</th>\n",
              "      <th>RingCount</th>\n",
              "      <th>TPSA</th>\n",
              "      <th>LabuteASA</th>\n",
              "      <th>BalabanJ</th>\n",
              "      <th>BertzCT</th>\n",
              "    </tr>\n",
              "  </thead>\n",
              "  <tbody>\n",
              "    <tr>\n",
              "      <th>0</th>\n",
              "      <td>A-3</td>\n",
              "      <td>N,N,N-trimethyloctadecan-1-aminium bromide</td>\n",
              "      <td>InChI=1S/C21H46N.BrH/c1-5-6-7-8-9-10-11-12-13-...</td>\n",
              "      <td>SZEMGTQCPRNXEG-UHFFFAOYSA-M</td>\n",
              "      <td>[Br-].CCCCCCCCCCCCCCCCCC[N+](C)(C)C</td>\n",
              "      <td>-3.616127</td>\n",
              "      <td>0.000000</td>\n",
              "      <td>1</td>\n",
              "      <td>G1</td>\n",
              "      <td>392.510</td>\n",
              "      <td>...</td>\n",
              "      <td>17</td>\n",
              "      <td>142</td>\n",
              "      <td>0</td>\n",
              "      <td>0</td>\n",
              "      <td>0</td>\n",
              "      <td>0</td>\n",
              "      <td>0.00</td>\n",
              "      <td>158.520601</td>\n",
              "      <td>0.000000e+00</td>\n",
              "      <td>210.377334</td>\n",
              "    </tr>\n",
              "    <tr>\n",
              "      <th>1</th>\n",
              "      <td>A-4</td>\n",
              "      <td>Benzo[cd]indol-2(1H)-one</td>\n",
              "      <td>InChI=1S/C11H7NO/c13-11-8-5-1-3-7-4-2-6-9(12-1...</td>\n",
              "      <td>GPYLCFQEKPUWLD-UHFFFAOYSA-N</td>\n",
              "      <td>O=C1Nc2cccc3cccc1c23</td>\n",
              "      <td>-3.254767</td>\n",
              "      <td>0.000000</td>\n",
              "      <td>1</td>\n",
              "      <td>G1</td>\n",
              "      <td>169.183</td>\n",
              "      <td>...</td>\n",
              "      <td>0</td>\n",
              "      <td>62</td>\n",
              "      <td>2</td>\n",
              "      <td>0</td>\n",
              "      <td>1</td>\n",
              "      <td>3</td>\n",
              "      <td>29.10</td>\n",
              "      <td>75.183563</td>\n",
              "      <td>2.582996e+00</td>\n",
              "      <td>511.229248</td>\n",
              "    </tr>\n",
              "    <tr>\n",
              "      <th>2</th>\n",
              "      <td>A-5</td>\n",
              "      <td>4-chlorobenzaldehyde</td>\n",
              "      <td>InChI=1S/C7H5ClO/c8-7-3-1-6(5-9)2-4-7/h1-5H</td>\n",
              "      <td>AVPYQKSLYISFPO-UHFFFAOYSA-N</td>\n",
              "      <td>Clc1ccc(C=O)cc1</td>\n",
              "      <td>-2.177078</td>\n",
              "      <td>0.000000</td>\n",
              "      <td>1</td>\n",
              "      <td>G1</td>\n",
              "      <td>140.569</td>\n",
              "      <td>...</td>\n",
              "      <td>1</td>\n",
              "      <td>46</td>\n",
              "      <td>1</td>\n",
              "      <td>0</td>\n",
              "      <td>0</td>\n",
              "      <td>1</td>\n",
              "      <td>17.07</td>\n",
              "      <td>58.261134</td>\n",
              "      <td>3.009782e+00</td>\n",
              "      <td>202.661065</td>\n",
              "    </tr>\n",
              "    <tr>\n",
              "      <th>3</th>\n",
              "      <td>A-8</td>\n",
              "      <td>zinc bis[2-hydroxy-3,5-bis(1-phenylethyl)benzo...</td>\n",
              "      <td>InChI=1S/2C23H22O3.Zn/c2*1-15(17-9-5-3-6-10-17...</td>\n",
              "      <td>XTUPUYCJWKHGSW-UHFFFAOYSA-L</td>\n",
              "      <td>[Zn++].CC(c1ccccc1)c2cc(C(C)c3ccccc3)c(O)c(c2)...</td>\n",
              "      <td>-3.924409</td>\n",
              "      <td>0.000000</td>\n",
              "      <td>1</td>\n",
              "      <td>G1</td>\n",
              "      <td>756.226</td>\n",
              "      <td>...</td>\n",
              "      <td>10</td>\n",
              "      <td>264</td>\n",
              "      <td>6</td>\n",
              "      <td>0</td>\n",
              "      <td>0</td>\n",
              "      <td>6</td>\n",
              "      <td>120.72</td>\n",
              "      <td>323.755434</td>\n",
              "      <td>2.320000e-07</td>\n",
              "      <td>1964.648666</td>\n",
              "    </tr>\n",
              "    <tr>\n",
              "      <th>4</th>\n",
              "      <td>A-9</td>\n",
              "      <td>4-({4-[bis(oxiran-2-ylmethyl)amino]phenyl}meth...</td>\n",
              "      <td>InChI=1S/C25H30N2O4/c1-5-20(26(10-22-14-28-22)...</td>\n",
              "      <td>FAUAZXVRLVIARB-UHFFFAOYSA-N</td>\n",
              "      <td>C1OC1CN(CC2CO2)c3ccc(Cc4ccc(cc4)N(CC5CO5)CC6CO...</td>\n",
              "      <td>-4.662065</td>\n",
              "      <td>0.000000</td>\n",
              "      <td>1</td>\n",
              "      <td>G1</td>\n",
              "      <td>422.525</td>\n",
              "      <td>...</td>\n",
              "      <td>12</td>\n",
              "      <td>164</td>\n",
              "      <td>2</td>\n",
              "      <td>4</td>\n",
              "      <td>4</td>\n",
              "      <td>6</td>\n",
              "      <td>56.60</td>\n",
              "      <td>183.183268</td>\n",
              "      <td>1.084427e+00</td>\n",
              "      <td>769.899934</td>\n",
              "    </tr>\n",
              "    <tr>\n",
              "      <th>...</th>\n",
              "      <td>...</td>\n",
              "      <td>...</td>\n",
              "      <td>...</td>\n",
              "      <td>...</td>\n",
              "      <td>...</td>\n",
              "      <td>...</td>\n",
              "      <td>...</td>\n",
              "      <td>...</td>\n",
              "      <td>...</td>\n",
              "      <td>...</td>\n",
              "      <td>...</td>\n",
              "      <td>...</td>\n",
              "      <td>...</td>\n",
              "      <td>...</td>\n",
              "      <td>...</td>\n",
              "      <td>...</td>\n",
              "      <td>...</td>\n",
              "      <td>...</td>\n",
              "      <td>...</td>\n",
              "      <td>...</td>\n",
              "      <td>...</td>\n",
              "    </tr>\n",
              "    <tr>\n",
              "      <th>9977</th>\n",
              "      <td>I-84</td>\n",
              "      <td>tetracaine</td>\n",
              "      <td>InChI=1S/C15H24N2O2/c1-4-5-10-16-14-8-6-13(7-9...</td>\n",
              "      <td>GKCBAIGFKIBETG-UHFFFAOYSA-N</td>\n",
              "      <td>C(c1ccc(cc1)NCCCC)(=O)OCCN(C)C</td>\n",
              "      <td>-3.010000</td>\n",
              "      <td>0.000000</td>\n",
              "      <td>1</td>\n",
              "      <td>G1</td>\n",
              "      <td>264.369</td>\n",
              "      <td>...</td>\n",
              "      <td>8</td>\n",
              "      <td>106</td>\n",
              "      <td>1</td>\n",
              "      <td>0</td>\n",
              "      <td>0</td>\n",
              "      <td>1</td>\n",
              "      <td>41.57</td>\n",
              "      <td>115.300645</td>\n",
              "      <td>2.394548e+00</td>\n",
              "      <td>374.236894</td>\n",
              "    </tr>\n",
              "    <tr>\n",
              "      <th>9978</th>\n",
              "      <td>I-85</td>\n",
              "      <td>tetracycline</td>\n",
              "      <td>InChI=1S/C22H24N2O8/c1-21(31)8-5-4-6-11(25)12(...</td>\n",
              "      <td>OFVLGDICTFRJMM-WESIUVDSSA-N</td>\n",
              "      <td>OC1=C(C(C2=C(O)[C@@](C(C(C(N)=O)=C(O)[C@H]3N(C...</td>\n",
              "      <td>-2.930000</td>\n",
              "      <td>0.000000</td>\n",
              "      <td>1</td>\n",
              "      <td>G1</td>\n",
              "      <td>444.440</td>\n",
              "      <td>...</td>\n",
              "      <td>2</td>\n",
              "      <td>170</td>\n",
              "      <td>1</td>\n",
              "      <td>0</td>\n",
              "      <td>3</td>\n",
              "      <td>4</td>\n",
              "      <td>181.62</td>\n",
              "      <td>182.429237</td>\n",
              "      <td>2.047922e+00</td>\n",
              "      <td>1148.584975</td>\n",
              "    </tr>\n",
              "    <tr>\n",
              "      <th>9979</th>\n",
              "      <td>I-86</td>\n",
              "      <td>thymol</td>\n",
              "      <td>InChI=1S/C10H14O/c1-7(2)9-5-4-8(3)6-10(9)11/h4...</td>\n",
              "      <td>MGSRCZKZVOBKFT-UHFFFAOYSA-N</td>\n",
              "      <td>c1(cc(ccc1C(C)C)C)O</td>\n",
              "      <td>-2.190000</td>\n",
              "      <td>0.019222</td>\n",
              "      <td>3</td>\n",
              "      <td>G5</td>\n",
              "      <td>150.221</td>\n",
              "      <td>...</td>\n",
              "      <td>1</td>\n",
              "      <td>60</td>\n",
              "      <td>1</td>\n",
              "      <td>0</td>\n",
              "      <td>0</td>\n",
              "      <td>1</td>\n",
              "      <td>20.23</td>\n",
              "      <td>67.685405</td>\n",
              "      <td>3.092720e+00</td>\n",
              "      <td>251.049732</td>\n",
              "    </tr>\n",
              "    <tr>\n",
              "      <th>9980</th>\n",
              "      <td>I-93</td>\n",
              "      <td>verapamil</td>\n",
              "      <td>InChI=1S/C27H38N2O4/c1-20(2)27(19-28,22-10-12-...</td>\n",
              "      <td>SGTNSNPWRIOYBX-UHFFFAOYSA-N</td>\n",
              "      <td>COc1ccc(CCN(C)CCCC(C#N)(C(C)C)c2ccc(OC)c(OC)c2...</td>\n",
              "      <td>-3.980000</td>\n",
              "      <td>0.000000</td>\n",
              "      <td>1</td>\n",
              "      <td>G1</td>\n",
              "      <td>454.611</td>\n",
              "      <td>...</td>\n",
              "      <td>13</td>\n",
              "      <td>180</td>\n",
              "      <td>2</td>\n",
              "      <td>0</td>\n",
              "      <td>0</td>\n",
              "      <td>2</td>\n",
              "      <td>63.95</td>\n",
              "      <td>198.569223</td>\n",
              "      <td>2.023333e+00</td>\n",
              "      <td>938.203977</td>\n",
              "    </tr>\n",
              "    <tr>\n",
              "      <th>9981</th>\n",
              "      <td>I-94</td>\n",
              "      <td>warfarin</td>\n",
              "      <td>InChI=1S/C19H16O4/c1-12(20)11-15(13-7-3-2-4-8-...</td>\n",
              "      <td>PJVWKTKQMONHTI-UHFFFAOYSA-N</td>\n",
              "      <td>CC(=O)CC(c1ccccc1)c1c(O)c2ccccc2oc1=O</td>\n",
              "      <td>-4.780000</td>\n",
              "      <td>0.450506</td>\n",
              "      <td>3</td>\n",
              "      <td>G5</td>\n",
              "      <td>308.333</td>\n",
              "      <td>...</td>\n",
              "      <td>4</td>\n",
              "      <td>116</td>\n",
              "      <td>3</td>\n",
              "      <td>0</td>\n",
              "      <td>0</td>\n",
              "      <td>3</td>\n",
              "      <td>67.51</td>\n",
              "      <td>132.552025</td>\n",
              "      <td>2.258072e+00</td>\n",
              "      <td>909.550973</td>\n",
              "    </tr>\n",
              "  </tbody>\n",
              "</table>\n",
              "<p>9982 rows × 26 columns</p>\n",
              "</div>\n",
              "    <div class=\"colab-df-buttons\">\n",
              "\n",
              "  <div class=\"colab-df-container\">\n",
              "    <button class=\"colab-df-convert\" onclick=\"convertToInteractive('df-a9e5b418-05ca-4c12-9eaf-ec78237026fd')\"\n",
              "            title=\"Convert this dataframe to an interactive table.\"\n",
              "            style=\"display:none;\">\n",
              "\n",
              "  <svg xmlns=\"http://www.w3.org/2000/svg\" height=\"24px\" viewBox=\"0 -960 960 960\">\n",
              "    <path d=\"M120-120v-720h720v720H120Zm60-500h600v-160H180v160Zm220 220h160v-160H400v160Zm0 220h160v-160H400v160ZM180-400h160v-160H180v160Zm440 0h160v-160H620v160ZM180-180h160v-160H180v160Zm440 0h160v-160H620v160Z\"/>\n",
              "  </svg>\n",
              "    </button>\n",
              "\n",
              "  <style>\n",
              "    .colab-df-container {\n",
              "      display:flex;\n",
              "      gap: 12px;\n",
              "    }\n",
              "\n",
              "    .colab-df-convert {\n",
              "      background-color: #E8F0FE;\n",
              "      border: none;\n",
              "      border-radius: 50%;\n",
              "      cursor: pointer;\n",
              "      display: none;\n",
              "      fill: #1967D2;\n",
              "      height: 32px;\n",
              "      padding: 0 0 0 0;\n",
              "      width: 32px;\n",
              "    }\n",
              "\n",
              "    .colab-df-convert:hover {\n",
              "      background-color: #E2EBFA;\n",
              "      box-shadow: 0px 1px 2px rgba(60, 64, 67, 0.3), 0px 1px 3px 1px rgba(60, 64, 67, 0.15);\n",
              "      fill: #174EA6;\n",
              "    }\n",
              "\n",
              "    .colab-df-buttons div {\n",
              "      margin-bottom: 4px;\n",
              "    }\n",
              "\n",
              "    [theme=dark] .colab-df-convert {\n",
              "      background-color: #3B4455;\n",
              "      fill: #D2E3FC;\n",
              "    }\n",
              "\n",
              "    [theme=dark] .colab-df-convert:hover {\n",
              "      background-color: #434B5C;\n",
              "      box-shadow: 0px 1px 3px 1px rgba(0, 0, 0, 0.15);\n",
              "      filter: drop-shadow(0px 1px 2px rgba(0, 0, 0, 0.3));\n",
              "      fill: #FFFFFF;\n",
              "    }\n",
              "  </style>\n",
              "\n",
              "    <script>\n",
              "      const buttonEl =\n",
              "        document.querySelector('#df-a9e5b418-05ca-4c12-9eaf-ec78237026fd button.colab-df-convert');\n",
              "      buttonEl.style.display =\n",
              "        google.colab.kernel.accessAllowed ? 'block' : 'none';\n",
              "\n",
              "      async function convertToInteractive(key) {\n",
              "        const element = document.querySelector('#df-a9e5b418-05ca-4c12-9eaf-ec78237026fd');\n",
              "        const dataTable =\n",
              "          await google.colab.kernel.invokeFunction('convertToInteractive',\n",
              "                                                    [key], {});\n",
              "        if (!dataTable) return;\n",
              "\n",
              "        const docLinkHtml = 'Like what you see? Visit the ' +\n",
              "          '<a target=\"_blank\" href=https://colab.research.google.com/notebooks/data_table.ipynb>data table notebook</a>'\n",
              "          + ' to learn more about interactive tables.';\n",
              "        element.innerHTML = '';\n",
              "        dataTable['output_type'] = 'display_data';\n",
              "        await google.colab.output.renderOutput(dataTable, element);\n",
              "        const docLink = document.createElement('div');\n",
              "        docLink.innerHTML = docLinkHtml;\n",
              "        element.appendChild(docLink);\n",
              "      }\n",
              "    </script>\n",
              "  </div>\n",
              "\n",
              "\n",
              "<div id=\"df-edfb68f7-d2ca-465a-86f6-2f2df4f49afb\">\n",
              "  <button class=\"colab-df-quickchart\" onclick=\"quickchart('df-edfb68f7-d2ca-465a-86f6-2f2df4f49afb')\"\n",
              "            title=\"Suggest charts\"\n",
              "            style=\"display:none;\">\n",
              "\n",
              "<svg xmlns=\"http://www.w3.org/2000/svg\" height=\"24px\"viewBox=\"0 0 24 24\"\n",
              "     width=\"24px\">\n",
              "    <g>\n",
              "        <path d=\"M19 3H5c-1.1 0-2 .9-2 2v14c0 1.1.9 2 2 2h14c1.1 0 2-.9 2-2V5c0-1.1-.9-2-2-2zM9 17H7v-7h2v7zm4 0h-2V7h2v10zm4 0h-2v-4h2v4z\"/>\n",
              "    </g>\n",
              "</svg>\n",
              "  </button>\n",
              "\n",
              "<style>\n",
              "  .colab-df-quickchart {\n",
              "      --bg-color: #E8F0FE;\n",
              "      --fill-color: #1967D2;\n",
              "      --hover-bg-color: #E2EBFA;\n",
              "      --hover-fill-color: #174EA6;\n",
              "      --disabled-fill-color: #AAA;\n",
              "      --disabled-bg-color: #DDD;\n",
              "  }\n",
              "\n",
              "  [theme=dark] .colab-df-quickchart {\n",
              "      --bg-color: #3B4455;\n",
              "      --fill-color: #D2E3FC;\n",
              "      --hover-bg-color: #434B5C;\n",
              "      --hover-fill-color: #FFFFFF;\n",
              "      --disabled-bg-color: #3B4455;\n",
              "      --disabled-fill-color: #666;\n",
              "  }\n",
              "\n",
              "  .colab-df-quickchart {\n",
              "    background-color: var(--bg-color);\n",
              "    border: none;\n",
              "    border-radius: 50%;\n",
              "    cursor: pointer;\n",
              "    display: none;\n",
              "    fill: var(--fill-color);\n",
              "    height: 32px;\n",
              "    padding: 0;\n",
              "    width: 32px;\n",
              "  }\n",
              "\n",
              "  .colab-df-quickchart:hover {\n",
              "    background-color: var(--hover-bg-color);\n",
              "    box-shadow: 0 1px 2px rgba(60, 64, 67, 0.3), 0 1px 3px 1px rgba(60, 64, 67, 0.15);\n",
              "    fill: var(--button-hover-fill-color);\n",
              "  }\n",
              "\n",
              "  .colab-df-quickchart-complete:disabled,\n",
              "  .colab-df-quickchart-complete:disabled:hover {\n",
              "    background-color: var(--disabled-bg-color);\n",
              "    fill: var(--disabled-fill-color);\n",
              "    box-shadow: none;\n",
              "  }\n",
              "\n",
              "  .colab-df-spinner {\n",
              "    border: 2px solid var(--fill-color);\n",
              "    border-color: transparent;\n",
              "    border-bottom-color: var(--fill-color);\n",
              "    animation:\n",
              "      spin 1s steps(1) infinite;\n",
              "  }\n",
              "\n",
              "  @keyframes spin {\n",
              "    0% {\n",
              "      border-color: transparent;\n",
              "      border-bottom-color: var(--fill-color);\n",
              "      border-left-color: var(--fill-color);\n",
              "    }\n",
              "    20% {\n",
              "      border-color: transparent;\n",
              "      border-left-color: var(--fill-color);\n",
              "      border-top-color: var(--fill-color);\n",
              "    }\n",
              "    30% {\n",
              "      border-color: transparent;\n",
              "      border-left-color: var(--fill-color);\n",
              "      border-top-color: var(--fill-color);\n",
              "      border-right-color: var(--fill-color);\n",
              "    }\n",
              "    40% {\n",
              "      border-color: transparent;\n",
              "      border-right-color: var(--fill-color);\n",
              "      border-top-color: var(--fill-color);\n",
              "    }\n",
              "    60% {\n",
              "      border-color: transparent;\n",
              "      border-right-color: var(--fill-color);\n",
              "    }\n",
              "    80% {\n",
              "      border-color: transparent;\n",
              "      border-right-color: var(--fill-color);\n",
              "      border-bottom-color: var(--fill-color);\n",
              "    }\n",
              "    90% {\n",
              "      border-color: transparent;\n",
              "      border-bottom-color: var(--fill-color);\n",
              "    }\n",
              "  }\n",
              "</style>\n",
              "\n",
              "  <script>\n",
              "    async function quickchart(key) {\n",
              "      const quickchartButtonEl =\n",
              "        document.querySelector('#' + key + ' button');\n",
              "      quickchartButtonEl.disabled = true;  // To prevent multiple clicks.\n",
              "      quickchartButtonEl.classList.add('colab-df-spinner');\n",
              "      try {\n",
              "        const charts = await google.colab.kernel.invokeFunction(\n",
              "            'suggestCharts', [key], {});\n",
              "      } catch (error) {\n",
              "        console.error('Error during call to suggestCharts:', error);\n",
              "      }\n",
              "      quickchartButtonEl.classList.remove('colab-df-spinner');\n",
              "      quickchartButtonEl.classList.add('colab-df-quickchart-complete');\n",
              "    }\n",
              "    (() => {\n",
              "      let quickchartButtonEl =\n",
              "        document.querySelector('#df-edfb68f7-d2ca-465a-86f6-2f2df4f49afb button');\n",
              "      quickchartButtonEl.style.display =\n",
              "        google.colab.kernel.accessAllowed ? 'block' : 'none';\n",
              "    })();\n",
              "  </script>\n",
              "</div>\n",
              "    </div>\n",
              "  </div>\n"
            ]
          },
          "metadata": {},
          "execution_count": 5
        }
      ]
    },
    {
      "cell_type": "code",
      "source": [
        "# train model"
      ],
      "metadata": {
        "id": "Yn_dH6Qut4ji"
      },
      "execution_count": null,
      "outputs": []
    },
    {
      "cell_type": "code",
      "source": [
        "# prepare features\n",
        "y = df['Solubility'].to_numpy()\n",
        "X = df[['MolWt','MolLogP','MolMR','HeavyAtomCount','NumHAcceptors','NumHDonors','NumHeteroatoms',\n",
        "    'NumRotatableBonds','NumValenceElectrons','NumAromaticRings','NumSaturatedRings','NumAliphaticRings','RingCount','TPSA',\n",
        "    'LabuteASA','BalabanJ','BertzCT']]\n",
        "\n",
        "# train/test split\n",
        "X_train, X_test, y_train, y_test = train_test_split(X, y,test_size=0.2,random_state=1)\n",
        "\n",
        "# scale inputs\n",
        "scaler = StandardScaler()\n",
        "X_train_std=scaler.fit_transform(np.array(X_train))\n",
        "X_test_std=scaler.transform(np.array(X_test))"
      ],
      "metadata": {
        "id": "R92q804Fsf56"
      },
      "execution_count": 6,
      "outputs": []
    },
    {
      "cell_type": "code",
      "source": [
        "import pickle\n",
        "\n",
        "with open('X_scaler.pkl', 'wb+') as f:\n",
        "  pickle.dump(scaler, f)"
      ],
      "metadata": {
        "id": "ze-tFrNRfFqU"
      },
      "execution_count": 7,
      "outputs": []
    },
    {
      "cell_type": "code",
      "source": [
        "def scoremodel(y_train, y_pred_train, y_test, y_pred_test, verbose=False):\n",
        "  '''\n",
        "    Returns performance metrics of model as dict of form:\n",
        "    {'train':[train_r2,train_rmse],'test':[test_r2,test_rmse]}\n",
        "  '''\n",
        "  train_r2 = metrics.r2_score(y_train, y_pred_train)\n",
        "  train_rmse = metrics.mean_squared_error(y_train, y_pred_train, squared=False)\n",
        "  test_r2 = metrics.r2_score(y_test, y_pred_test)\n",
        "  test_rmse = metrics.mean_squared_error(y_test, y_pred_test, squared=False)\n",
        "  if verbose:\n",
        "    print(\"Training Set Metrics:\")\n",
        "    print(f\"\\tR^2: {train_r2}\\n\\tRMSE: {train_rmse}\")\n",
        "    print(\"Test Set Metrics:\")\n",
        "    print(f\"\\tR^2: {test_r2}\\n\\tRMSE: {test_rmse}\")\n",
        "  return {\"train\":[train_r2,train_rmse],\"test\":[test_r2,test_rmse]}"
      ],
      "metadata": {
        "id": "puIc2GnZueXp"
      },
      "execution_count": 8,
      "outputs": []
    },
    {
      "cell_type": "code",
      "source": [
        "def NNRegressor(X_tr, X_tst=[], y_tr=[], y_tst=[], neurons=[64,32], activation_fun='elu',lr=0.01, batch_size=32):\n",
        "  name = f\"{'_'.join(str(n) for n in neurons)}_{activation_fun}_{lr}_{batch_size}\"\n",
        "  callbacks_list = [\n",
        "    EarlyStopping(\n",
        "        monitor=\"loss\",\n",
        "        mode='min',\n",
        "        patience=100,\n",
        "    ),\n",
        "    ModelCheckpoint(\n",
        "        filepath=f\"models/{name}.h5\",\n",
        "        monitor=\"loss\",\n",
        "        save_best_only=True,\n",
        "    )\n",
        "  ]\n",
        "  model = Sequential(name=name)\n",
        "  # hidden layers\n",
        "  model.add(Dense(neurons[0], input_dim = X_train.shape[1], activation=activation_fun, kernel_initializer='glorot_uniform'))\n",
        "  model.add(BatchNormalization())\n",
        "  for dim in neurons[1:]:\n",
        "    model.add(Dense(dim, activation=activation_fun, kernel_initializer='glorot_uniform'))\n",
        "    model.add(BatchNormalization())\n",
        "  model.add(Dense(1, activation='linear'))\n",
        "\n",
        "  model.compile(loss='MSE',\n",
        "              optimizer = optimizers.Adam(learning_rate=lr),#The optimizer you will use\n",
        "              metrics=['MSE']\n",
        "              )\n",
        "\n",
        "  history = model.fit(X_tr,\n",
        "          y_tr, # The x and y training data to fit to\n",
        "          batch_size = batch_size, # Neural network batch size, default is 32\n",
        "          epochs = 500, # Number of epochs to train for\n",
        "          callbacks=callbacks_list,\n",
        "          verbose = 0\n",
        "          )\n",
        "\n",
        "  # score model\n",
        "  if len(X_tst)==0:\n",
        "    y_pred_train = model.predict(X_tr, verbose = 0)\n",
        "    train_r2 = metrics.r2_score(y_tr, y_pred_train)\n",
        "    train_rmse = metrics.mean_squared_error(y_tr, y_pred_train, squared=False)\n",
        "    print(\"Training Set Metrics:\")\n",
        "    print(f\"\\tR^2: {train_r2}\\n\\tRMSE: {train_rmse}\")\n",
        "    return {\"train\":[train_r2,train_rmse]}\n",
        "  y_pred_test = model.predict(X_tst, verbose = 0)\n",
        "  y_pred_train = model.predict(X_tr, verbose = 0)\n",
        "  return scoremodel(y_tr, y_pred_train, y_tst, y_pred_test, verbose=True)"
      ],
      "metadata": {
        "id": "JOtg0_ydvqBo"
      },
      "execution_count": 9,
      "outputs": []
    },
    {
      "cell_type": "code",
      "source": [
        "results = {}"
      ],
      "metadata": {
        "id": "e7BAyBnLDSGr"
      },
      "execution_count": 10,
      "outputs": []
    },
    {
      "cell_type": "code",
      "source": [
        "# learning rate: 0.001, 0.01, 0.1\n",
        "# neurons: [64,32], [32, 16], [128, 64]\n",
        "  # [256,128, 64], [128, 64, 32]\n",
        "# batch size: 16, 32, 64\n",
        "# activation fun: elu, relu"
      ],
      "metadata": {
        "id": "M9jZpPPr5SOR"
      },
      "execution_count": null,
      "outputs": []
    },
    {
      "cell_type": "code",
      "source": [
        "learning_rate = [0.0001, 0.001, 0.01, 0.1]\n",
        "for lr in learning_rate:\n",
        "  print(lr)\n",
        "  results[f\"64_32_elu_{lr}_32\"] = NNRegressor(X_train_std, X_test_std, y_train, y_test, lr=lr)"
      ],
      "metadata": {
        "colab": {
          "base_uri": "https://localhost:8080/"
        },
        "id": "ivGPfnBaEbw_",
        "outputId": "56571340-c855-42ab-d1f0-fa2b07a1d96d"
      },
      "execution_count": 11,
      "outputs": [
        {
          "output_type": "stream",
          "name": "stdout",
          "text": [
            "0.0001\n"
          ]
        },
        {
          "output_type": "stream",
          "name": "stderr",
          "text": [
            "/usr/local/lib/python3.10/dist-packages/keras/src/engine/training.py:3079: UserWarning: You are saving your model as an HDF5 file via `model.save()`. This file format is considered legacy. We recommend using instead the native Keras format, e.g. `model.save('my_model.keras')`.\n",
            "  saving_api.save_model(\n"
          ]
        },
        {
          "output_type": "stream",
          "name": "stdout",
          "text": [
            "Training Set Metrics:\n",
            "\tR^2: 0.773125412441798\n",
            "\tRMSE: 1.1249676541148788\n",
            "Test Set Metrics:\n",
            "\tR^2: 0.7584911990341622\n",
            "\tRMSE: 1.1758426764710799\n",
            "0.001\n"
          ]
        },
        {
          "output_type": "stream",
          "name": "stderr",
          "text": [
            "/usr/local/lib/python3.10/dist-packages/keras/src/engine/training.py:3079: UserWarning: You are saving your model as an HDF5 file via `model.save()`. This file format is considered legacy. We recommend using instead the native Keras format, e.g. `model.save('my_model.keras')`.\n",
            "  saving_api.save_model(\n"
          ]
        },
        {
          "output_type": "stream",
          "name": "stdout",
          "text": [
            "Training Set Metrics:\n",
            "\tR^2: 0.8428419758376036\n",
            "\tRMSE: 0.9363007884320766\n",
            "Test Set Metrics:\n",
            "\tR^2: 0.7783285376371222\n",
            "\tRMSE: 1.126516691121801\n",
            "0.01\n"
          ]
        },
        {
          "output_type": "stream",
          "name": "stderr",
          "text": [
            "/usr/local/lib/python3.10/dist-packages/keras/src/engine/training.py:3079: UserWarning: You are saving your model as an HDF5 file via `model.save()`. This file format is considered legacy. We recommend using instead the native Keras format, e.g. `model.save('my_model.keras')`.\n",
            "  saving_api.save_model(\n"
          ]
        },
        {
          "output_type": "stream",
          "name": "stdout",
          "text": [
            "Training Set Metrics:\n",
            "\tR^2: 0.8221821823370176\n",
            "\tRMSE: 0.9959436042320959\n",
            "Test Set Metrics:\n",
            "\tR^2: 0.73423835647219\n",
            "\tRMSE: 1.2334708433701524\n",
            "0.1\n"
          ]
        },
        {
          "output_type": "stream",
          "name": "stderr",
          "text": [
            "/usr/local/lib/python3.10/dist-packages/keras/src/engine/training.py:3079: UserWarning: You are saving your model as an HDF5 file via `model.save()`. This file format is considered legacy. We recommend using instead the native Keras format, e.g. `model.save('my_model.keras')`.\n",
            "  saving_api.save_model(\n"
          ]
        },
        {
          "output_type": "stream",
          "name": "stdout",
          "text": [
            "Training Set Metrics:\n",
            "\tR^2: -5864.480143373403\n",
            "\tRMSE: 180.88347530392397\n",
            "Test Set Metrics:\n",
            "\tR^2: 0.7303941726952271\n",
            "\tRMSE: 1.2423597570875993\n"
          ]
        }
      ]
    },
    {
      "cell_type": "code",
      "source": [
        "train_r2 = [results[f\"64_32_elu_{lr}_32\"]['test'][0] for lr in [0.0001, 0.001, 0.01]]\n",
        "test_r2 = [results[f\"64_32_elu_{lr}_32\"]['train'][0] for lr in [0.0001, 0.001, 0.01]]\n",
        "plt.bar([1, 2, 3], train_r2, width = -0.25, align = 'edge', color = 'blue', label = 'Train R^2')\n",
        "plt.bar([1, 2, 3], test_r2, width = 0.25, align = 'edge', color = 'red', label = 'Test R^2')\n",
        "plt.ylabel('R^2')\n",
        "plt.xlabel('Learning Rate')\n",
        "plt.xticks([1, 2, 3], ['0.0001', '0.001', '0.01'])\n",
        "plt.legend()\n",
        "plt.show()"
      ],
      "metadata": {
        "colab": {
          "base_uri": "https://localhost:8080/",
          "height": 449
        },
        "id": "nsWbjrmRpQ7u",
        "outputId": "1c5afef9-3605-4d74-fd60-ee6d21d491be"
      },
      "execution_count": 14,
      "outputs": [
        {
          "output_type": "display_data",
          "data": {
            "text/plain": [
              "<Figure size 640x480 with 1 Axes>"
            ],
            "image/png": "[encoded data removed]"
          },
          "metadata": {}
        }
      ]
    },
    {
      "cell_type": "code",
      "source": [
        "# search neural network architectures\n",
        "neurons = [[32, 16], [128, 64]]\n",
        "for n_arch in neurons:\n",
        "  print(n_arch)\n",
        "  results[f\"{'_'.join(str(n) for n in n_arch)}_elu_0.001_32\"] = NNRegressor(X_train_std, X_test_std, y_train, y_test, neurons=n_arch, lr=0.001)"
      ],
      "metadata": {
        "colab": {
          "base_uri": "https://localhost:8080/"
        },
        "id": "Dllhwbcb7iuR",
        "outputId": "66e1b457-e602-4519-d5a3-0535d36ed456"
      },
      "execution_count": 15,
      "outputs": [
        {
          "output_type": "stream",
          "name": "stdout",
          "text": [
            "[32, 16]\n"
          ]
        },
        {
          "output_type": "stream",
          "name": "stderr",
          "text": [
            "/usr/local/lib/python3.10/dist-packages/keras/src/engine/training.py:3079: UserWarning: You are saving your model as an HDF5 file via `model.save()`. This file format is considered legacy. We recommend using instead the native Keras format, e.g. `model.save('my_model.keras')`.\n",
            "  saving_api.save_model(\n"
          ]
        },
        {
          "output_type": "stream",
          "name": "stdout",
          "text": [
            "Training Set Metrics:\n",
            "\tR^2: 0.8166579754949488\n",
            "\tRMSE: 1.0112956062003262\n",
            "Test Set Metrics:\n",
            "\tR^2: 0.7753730903281084\n",
            "\tRMSE: 1.1340014995672754\n",
            "[128, 64]\n"
          ]
        },
        {
          "output_type": "stream",
          "name": "stderr",
          "text": [
            "/usr/local/lib/python3.10/dist-packages/keras/src/engine/training.py:3079: UserWarning: You are saving your model as an HDF5 file via `model.save()`. This file format is considered legacy. We recommend using instead the native Keras format, e.g. `model.save('my_model.keras')`.\n",
            "  saving_api.save_model(\n"
          ]
        },
        {
          "output_type": "stream",
          "name": "stdout",
          "text": [
            "Training Set Metrics:\n",
            "\tR^2: 0.859649615178775\n",
            "\tRMSE: 0.8848179265387283\n",
            "Test Set Metrics:\n",
            "\tR^2: 0.7774200726492093\n",
            "\tRMSE: 1.1288227041877608\n"
          ]
        }
      ]
    },
    {
      "cell_type": "code",
      "source": [
        "train_r2 = [results[f\"{'_'.join(str(n) for n in n_arch)}_elu_0.001_32\"]['test'][0] for n_arch in [[32, 16], [64,32], [128, 64]]]\n",
        "test_r2 = [results[f\"{'_'.join(str(n) for n in n_arch)}_elu_0.001_32\"]['train'][0] for n_arch in [[32, 16],[64,32], [128, 64]]]\n",
        "plt.bar([1, 2, 3], train_r2, width = -0.25, align = 'edge', color = 'blue', label = 'Train R^2')\n",
        "plt.bar([1, 2, 3], test_r2, width = 0.25, align = 'edge', color = 'red', label = 'Test R^2')\n",
        "plt.ylabel('R^2')\n",
        "plt.xlabel('Hidden Layer Size')\n",
        "plt.xticks([1, 2, 3], ['32, 16','64, 32', '128, 64'])\n",
        "plt.legend()\n",
        "plt.show()"
      ],
      "metadata": {
        "colab": {
          "base_uri": "https://localhost:8080/",
          "height": 449
        },
        "id": "pv8Mz1fBrZ2x",
        "outputId": "16576f4a-ba96-4231-d6aa-f0844521e8bd"
      },
      "execution_count": 16,
      "outputs": [
        {
          "output_type": "display_data",
          "data": {
            "text/plain": [
              "<Figure size 640x480 with 1 Axes>"
            ],
            "image/png": "[encoded data removed]"
          },
          "metadata": {}
        }
      ]
    },
    {
      "cell_type": "code",
      "source": [
        "neurons = [[256, 128, 64], [128, 64, 32]]\n",
        "for n_arch in neurons:\n",
        "  print(n_arch)\n",
        "  results[f\"{'_'.join(str(n) for n in n_arch)}_elu_0.001_32\"] = NNRegressor(X_train_std, X_test_std, y_train, y_test, neurons=n_arch, lr=0.001)"
      ],
      "metadata": {
        "colab": {
          "base_uri": "https://localhost:8080/"
        },
        "id": "eTExovH3HuP4",
        "outputId": "95efbe07-54f9-4720-ab86-01c97da5f988"
      },
      "execution_count": 17,
      "outputs": [
        {
          "output_type": "stream",
          "name": "stdout",
          "text": [
            "[256, 128, 64]\n"
          ]
        },
        {
          "output_type": "stream",
          "name": "stderr",
          "text": [
            "/usr/local/lib/python3.10/dist-packages/keras/src/engine/training.py:3079: UserWarning: You are saving your model as an HDF5 file via `model.save()`. This file format is considered legacy. We recommend using instead the native Keras format, e.g. `model.save('my_model.keras')`.\n",
            "  saving_api.save_model(\n"
          ]
        },
        {
          "output_type": "stream",
          "name": "stdout",
          "text": [
            "Training Set Metrics:\n",
            "\tR^2: 0.9319242723803453\n",
            "\tRMSE: 0.6162305926986098\n",
            "Test Set Metrics:\n",
            "\tR^2: 0.7924074073848034\n",
            "\tRMSE: 1.0901560369339738\n",
            "[128, 64, 32]\n"
          ]
        },
        {
          "output_type": "stream",
          "name": "stderr",
          "text": [
            "/usr/local/lib/python3.10/dist-packages/keras/src/engine/training.py:3079: UserWarning: You are saving your model as an HDF5 file via `model.save()`. This file format is considered legacy. We recommend using instead the native Keras format, e.g. `model.save('my_model.keras')`.\n",
            "  saving_api.save_model(\n"
          ]
        },
        {
          "output_type": "stream",
          "name": "stdout",
          "text": [
            "Training Set Metrics:\n",
            "\tR^2: 0.8986583194857309\n",
            "\tRMSE: 0.7518672357826727\n",
            "Test Set Metrics:\n",
            "\tR^2: 0.7799508471131547\n",
            "\tRMSE: 1.1223868975601157\n"
          ]
        }
      ]
    },
    {
      "cell_type": "code",
      "source": [
        "train_r2 = [results[f\"{'_'.join(str(n) for n in n_arch)}_elu_0.001_32\"]['test'][0] for n_arch in [[256, 128, 64], [128, 64, 32]]]\n",
        "test_r2 = [results[f\"{'_'.join(str(n) for n in n_arch)}_elu_0.001_32\"]['train'][0] for n_arch in [[256, 128, 64], [128, 64, 32]]]\n",
        "plt.bar([1, 2], train_r2, width = -0.25, align = 'edge', color = 'blue', label = 'Train R^2')\n",
        "plt.bar([1, 2], test_r2, width = 0.25, align = 'edge', color = 'red', label = 'Test R^2')\n",
        "plt.ylabel('R^2')\n",
        "plt.xlabel('Hidden Layer Size')\n",
        "plt.xticks([1, 2], ['256, 128, 64', '128, 64, 32'])\n",
        "plt.legend()\n",
        "plt.show()"
      ],
      "metadata": {
        "colab": {
          "base_uri": "https://localhost:8080/",
          "height": 449
        },
        "id": "VkpXmTdLscSi",
        "outputId": "6f4e63a1-f05f-4b1c-9d04-739d8b1c0d53"
      },
      "execution_count": 18,
      "outputs": [
        {
          "output_type": "display_data",
          "data": {
            "text/plain": [
              "<Figure size 640x480 with 1 Axes>"
            ],
            "image/png": "[encoded data removed]"
          },
          "metadata": {}
        }
      ]
    },
    {
      "cell_type": "code",
      "source": [
        "neurons = [[256, 128, 64, 32], [128, 64, 32, 16]]\n",
        "for n_arch in neurons:\n",
        "  print(n_arch)\n",
        "  results[f\"{'_'.join(str(n) for n in n_arch)}_elu_0.001_32\"] = NNRegressor(X_train_std, X_test_std, y_train, y_test, neurons=n_arch, lr=0.001)"
      ],
      "metadata": {
        "colab": {
          "base_uri": "https://localhost:8080/"
        },
        "id": "3KJt6PC1L8XQ",
        "outputId": "99509f41-e836-432c-b0a6-9c9c164db740"
      },
      "execution_count": 19,
      "outputs": [
        {
          "output_type": "stream",
          "name": "stdout",
          "text": [
            "[256, 128, 64, 32]\n"
          ]
        },
        {
          "output_type": "stream",
          "name": "stderr",
          "text": [
            "/usr/local/lib/python3.10/dist-packages/keras/src/engine/training.py:3079: UserWarning: You are saving your model as an HDF5 file via `model.save()`. This file format is considered legacy. We recommend using instead the native Keras format, e.g. `model.save('my_model.keras')`.\n",
            "  saving_api.save_model(\n"
          ]
        },
        {
          "output_type": "stream",
          "name": "stdout",
          "text": [
            "Training Set Metrics:\n",
            "\tR^2: 0.94384899629546\n",
            "\tRMSE: 0.5596620654372924\n",
            "Test Set Metrics:\n",
            "\tR^2: 0.8027039925609236\n",
            "\tRMSE: 1.0627763613098935\n",
            "[128, 64, 32, 16]\n"
          ]
        },
        {
          "output_type": "stream",
          "name": "stderr",
          "text": [
            "/usr/local/lib/python3.10/dist-packages/keras/src/engine/training.py:3079: UserWarning: You are saving your model as an HDF5 file via `model.save()`. This file format is considered legacy. We recommend using instead the native Keras format, e.g. `model.save('my_model.keras')`.\n",
            "  saving_api.save_model(\n"
          ]
        },
        {
          "output_type": "stream",
          "name": "stdout",
          "text": [
            "Training Set Metrics:\n",
            "\tR^2: 0.915295852149194\n",
            "\tRMSE: 0.687384045725252\n",
            "Test Set Metrics:\n",
            "\tR^2: 0.7851433269981375\n",
            "\tRMSE: 1.1090654110652884\n"
          ]
        }
      ]
    },
    {
      "cell_type": "code",
      "source": [
        "train_r2 = [results[f\"{'_'.join(str(n) for n in n_arch)}_elu_0.001_32\"]['test'][0] for n_arch in [[256, 128, 64, 32], [128, 64, 32, 16]]]\n",
        "test_r2 = [results[f\"{'_'.join(str(n) for n in n_arch)}_elu_0.001_32\"]['train'][0] for n_arch in [[256, 128, 64, 32], [128, 64, 32, 16]]]\n",
        "plt.bar([1, 2], train_r2, width = -0.25, align = 'edge', color = 'blue', label = 'Train R^2')\n",
        "plt.bar([1, 2], test_r2, width = 0.25, align = 'edge', color = 'red', label = 'Test R^2')\n",
        "plt.ylabel('R^2')\n",
        "plt.xlabel('Hidden Layer Size')\n",
        "plt.xticks([1, 2], ['256, 128, 64, 32', '128, 64, 32, 16'])\n",
        "plt.legend()\n",
        "plt.show()"
      ],
      "metadata": {
        "colab": {
          "base_uri": "https://localhost:8080/",
          "height": 449
        },
        "id": "vs965lfAs5OK",
        "outputId": "e5ae0aca-2be4-4118-b74f-9f40de06d14a"
      },
      "execution_count": 20,
      "outputs": [
        {
          "output_type": "display_data",
          "data": {
            "text/plain": [
              "<Figure size 640x480 with 1 Axes>"
            ],
            "image/png": "[encoded data removed]"
          },
          "metadata": {}
        }
      ]
    },
    {
      "cell_type": "code",
      "source": [
        "batch_sizes = [16, 64, 128]\n",
        "for bs in batch_sizes:\n",
        "  print(bs)\n",
        "  results[f\"256_128_64_32_elu_0.001_{bs}\"] = NNRegressor(X_train_std, X_test_std, y_train, y_test, neurons=[256, 128, 64, 32], lr=0.001, batch_size=bs)"
      ],
      "metadata": {
        "colab": {
          "base_uri": "https://localhost:8080/"
        },
        "id": "4D1pbN5O-IBz",
        "outputId": "a3143218-f23f-4bc5-8c34-0e8049ed1250"
      },
      "execution_count": 21,
      "outputs": [
        {
          "output_type": "stream",
          "name": "stdout",
          "text": [
            "16\n"
          ]
        },
        {
          "output_type": "stream",
          "name": "stderr",
          "text": [
            "/usr/local/lib/python3.10/dist-packages/keras/src/engine/training.py:3079: UserWarning: You are saving your model as an HDF5 file via `model.save()`. This file format is considered legacy. We recommend using instead the native Keras format, e.g. `model.save('my_model.keras')`.\n",
            "  saving_api.save_model(\n"
          ]
        },
        {
          "output_type": "stream",
          "name": "stdout",
          "text": [
            "Training Set Metrics:\n",
            "\tR^2: 0.8937919850948322\n",
            "\tRMSE: 0.7697075647868652\n",
            "Test Set Metrics:\n",
            "\tR^2: 0.7805099627571448\n",
            "\tRMSE: 1.1209600726927003\n",
            "64\n"
          ]
        },
        {
          "output_type": "stream",
          "name": "stderr",
          "text": [
            "/usr/local/lib/python3.10/dist-packages/keras/src/engine/training.py:3079: UserWarning: You are saving your model as an HDF5 file via `model.save()`. This file format is considered legacy. We recommend using instead the native Keras format, e.g. `model.save('my_model.keras')`.\n",
            "  saving_api.save_model(\n"
          ]
        },
        {
          "output_type": "stream",
          "name": "stdout",
          "text": [
            "Training Set Metrics:\n",
            "\tR^2: 0.9501175409821032\n",
            "\tRMSE: 0.5274982658817869\n",
            "Test Set Metrics:\n",
            "\tR^2: 0.7831733447713869\n",
            "\tRMSE: 1.1141382204100285\n",
            "128\n"
          ]
        },
        {
          "output_type": "stream",
          "name": "stderr",
          "text": [
            "/usr/local/lib/python3.10/dist-packages/keras/src/engine/training.py:3079: UserWarning: You are saving your model as an HDF5 file via `model.save()`. This file format is considered legacy. We recommend using instead the native Keras format, e.g. `model.save('my_model.keras')`.\n",
            "  saving_api.save_model(\n"
          ]
        },
        {
          "output_type": "stream",
          "name": "stdout",
          "text": [
            "Training Set Metrics:\n",
            "\tR^2: 0.9597212002154043\n",
            "\tRMSE: 0.4740076705128421\n",
            "Test Set Metrics:\n",
            "\tR^2: 0.7852472962918619\n",
            "\tRMSE: 1.1087970398326352\n"
          ]
        }
      ]
    },
    {
      "cell_type": "code",
      "source": [
        "train_r2 = [results[f\"256_128_64_32_elu_0.001_{bs}\"]['test'][0] for bs in [16, 32, 64, 128]]\n",
        "test_r2 = [results[f\"256_128_64_32_elu_0.001_{bs}\"]['train'][0] for bs in [16, 32, 64, 128]]\n",
        "plt.bar([1, 2, 3, 4], train_r2, width = -0.25, align = 'edge', color = 'blue', label = 'Train R^2')\n",
        "plt.bar([1, 2, 3, 4], test_r2, width = 0.25, align = 'edge', color = 'red', label = 'Test R^2')\n",
        "plt.ylabel('R^2')\n",
        "plt.xlabel('Batch Size')\n",
        "plt.xticks([1, 2, 3, 4], ['16', '32', '64', '128'])\n",
        "plt.legend()\n",
        "plt.show()"
      ],
      "metadata": {
        "colab": {
          "base_uri": "https://localhost:8080/",
          "height": 452
        },
        "id": "ClvX6N5N6J0w",
        "outputId": "872fdd9a-49b9-48db-fa59-505e1877e3d9"
      },
      "execution_count": 25,
      "outputs": [
        {
          "output_type": "display_data",
          "data": {
            "text/plain": [
              "<Figure size 640x480 with 1 Axes>"
            ],
            "image/png": "[encoded data removed]"
          },
          "metadata": {}
        }
      ]
    },
    {
      "cell_type": "code",
      "source": [
        "activation_fun = ['relu', 'selu']\n",
        "for fun in activation_fun:\n",
        "  print(fun)\n",
        "  results[f\"256_128_64_32_{fun}_0.001_32\"] = NNRegressor(X_train_std, X_test_std, y_train, y_test, neurons=[256, 128, 64, 32], lr=0.001, batch_size=32, activation_fun=fun)"
      ],
      "metadata": {
        "colab": {
          "base_uri": "https://localhost:8080/"
        },
        "id": "HwxDpVFeO7ti",
        "outputId": "15fb6acc-3ee5-4949-ae28-a8f11e88b282"
      },
      "execution_count": 23,
      "outputs": [
        {
          "output_type": "stream",
          "name": "stdout",
          "text": [
            "relu\n"
          ]
        },
        {
          "output_type": "stream",
          "name": "stderr",
          "text": [
            "/usr/local/lib/python3.10/dist-packages/keras/src/engine/training.py:3079: UserWarning: You are saving your model as an HDF5 file via `model.save()`. This file format is considered legacy. We recommend using instead the native Keras format, e.g. `model.save('my_model.keras')`.\n",
            "  saving_api.save_model(\n"
          ]
        },
        {
          "output_type": "stream",
          "name": "stdout",
          "text": [
            "Training Set Metrics:\n",
            "\tR^2: 0.9471825673980944\n",
            "\tRMSE: 0.5427948924867138\n",
            "Test Set Metrics:\n",
            "\tR^2: 0.7937448803398843\n",
            "\tRMSE: 1.0866385455976113\n",
            "selu\n"
          ]
        },
        {
          "output_type": "stream",
          "name": "stderr",
          "text": [
            "/usr/local/lib/python3.10/dist-packages/keras/src/engine/training.py:3079: UserWarning: You are saving your model as an HDF5 file via `model.save()`. This file format is considered legacy. We recommend using instead the native Keras format, e.g. `model.save('my_model.keras')`.\n",
            "  saving_api.save_model(\n"
          ]
        },
        {
          "output_type": "stream",
          "name": "stdout",
          "text": [
            "Training Set Metrics:\n",
            "\tR^2: 0.9361139552589012\n",
            "\tRMSE: 0.5969667050897121\n",
            "Test Set Metrics:\n",
            "\tR^2: 0.7942343911427885\n",
            "\tRMSE: 1.0853483054119455\n"
          ]
        }
      ]
    },
    {
      "cell_type": "code",
      "source": [
        "train_r2 = [results[f\"256_128_64_32_{fun}_0.001_32\"]['test'][0] for fun in ['elu', 'relu', 'selu']]\n",
        "test_r2 = [results[f\"256_128_64_32_{fun}_0.001_32\"]['train'][0] for fun in ['elu', 'relu', 'selu']]\n",
        "plt.bar([1, 2, 3], train_r2, width = -0.25, align = 'edge', color = 'blue', label = 'Train R^2')\n",
        "plt.bar([1, 2, 3], test_r2, width = 0.25, align = 'edge', color = 'red', label = 'Test R^2')\n",
        "plt.ylabel('R^2')\n",
        "plt.xlabel('Activation Function')\n",
        "plt.xticks([1, 2, 3], ['elu', 'relu', 'selu'])\n",
        "plt.legend()\n",
        "plt.show()"
      ],
      "metadata": {
        "colab": {
          "base_uri": "https://localhost:8080/",
          "height": 449
        },
        "id": "q3nTjyYaNjXn",
        "outputId": "26b96459-9089-47c1-9ea9-e6f5635c8249"
      },
      "execution_count": 24,
      "outputs": [
        {
          "output_type": "display_data",
          "data": {
            "text/plain": [
              "<Figure size 640x480 with 1 Axes>"
            ],
            "image/png": "[encoded data removed]"
          },
          "metadata": {}
        }
      ]
    },
    {
      "cell_type": "code",
      "source": [
        "with open('model_results.pkl', 'wb+') as f:\n",
        "  pickle.dump(results, f)"
      ],
      "metadata": {
        "id": "Nr0VNKYXQYD9"
      },
      "execution_count": 26,
      "outputs": []
    },
    {
      "cell_type": "code",
      "source": [
        "def get_features_from_smi(smi, descriptors):\n",
        "  '''\n",
        "    Returns the rdkit descriptors for the given smiles string as a numpy array\n",
        "    The descriptors returned are: [MolWt,MolLogP,MolMR,HeavyAtomCount,\n",
        "    NumHAcceptors,NumHDonors,NumHeteroatoms,NumRotatableBonds,NumValenceElectrons,\n",
        "    NumAromaticRings,NumSaturatedRings,NumAliphaticRings,RingCount,TPSA,\n",
        "    LabuteASA,BalabanJ,BertzCT]\n",
        "  '''\n",
        "  try:\n",
        "    mol = Chem.MolFromSmiles(smi)\n",
        "  except:\n",
        "    return []\n",
        "  descriptor_dict = Descriptors.CalcMolDescriptors(mol)\n",
        "  features = np.array([descriptor_dict[desc] for desc in descriptors])\n",
        "  return features"
      ],
      "metadata": {
        "id": "G_DK-tPilNy-"
      },
      "execution_count": null,
      "outputs": []
    },
    {
      "cell_type": "code",
      "source": [
        "get_features_from_smi('Clc1ccc(C=O)cc1')"
      ],
      "metadata": {
        "colab": {
          "base_uri": "https://localhost:8080/"
        },
        "id": "YK5WRBpWrPJu",
        "outputId": "8bd58a37-2d0c-48ec-c616-28d2dc9042d7"
      },
      "execution_count": null,
      "outputs": [
        {
          "output_type": "execute_result",
          "data": {
            "text/plain": [
              "array([140.569     ,   2.1525    ,  36.8395    ,   9.        ,\n",
              "         1.        ,   0.        ,   2.        ,   1.        ,\n",
              "        46.        ,   1.        ,   0.        ,   0.        ,\n",
              "         1.        ,  17.07      ,  58.26113356,   3.00978195,\n",
              "       202.6610651 ])"
            ]
          },
          "metadata": {},
          "execution_count": 9
        }
      ]
    },
    {
      "cell_type": "code",
      "execution_count": null,
      "metadata": {
        "id": "oECAJzPMivNP"
      },
      "outputs": [],
      "source": [
        "# load model and predict\n",
        "descriptors = ['MolWt','MolLogP','MolMR','HeavyAtomCount','NumHAcceptors','NumHDonors','NumHeteroatoms',\n",
        "    'NumRotatableBonds','NumValenceElectrons','NumAromaticRings','NumSaturatedRings','NumAliphaticRings','RingCount','TPSA',\n",
        "    'LabuteASA','BalabanJ','BertzCT']\n",
        "\n",
        "X = df[descriptors]\n",
        "# x_scaler = StandardScaler()\n",
        "# X_std=x_scaler.fit_transform(X)\n",
        "\n",
        "# best_predictive_model = load_model(f'32_16_8_elu_10x-3_64_all.h5')\n",
        "\n",
        "with open('X_scaler.pkl', 'rb') as f:\n",
        "  x_scaler = pickle.load(f)\n",
        "\n",
        "best_predictive_model = load_model(f'models/256_128_64_32_elu_10x-3_32.h5')\n",
        "\n",
        "def predict_solubility(smiles):\n",
        "  '''\n",
        "    Predicts the solubility of the given molecule described by smi,\n",
        "    returns \"invalid smi\" if RDKit is unable to get a molecule from the smiles string\n",
        "  '''\n",
        "  pred = []\n",
        "  all_smi_X = []\n",
        "  for smi in smiles:\n",
        "    smi_X = get_features_from_smi(smi, descriptors)\n",
        "    if len(smi_X) == 0:\n",
        "      return \"invalid smi\"\n",
        "    all_smi_X.append(smi_X)\n",
        "  all_smi_X_std = x_scaler.transform(np.array(all_smi_X))\n",
        "  y_pred = best_predictive_model.predict(all_smi_X_std)\n",
        "  return y_pred"
      ]
    },
    {
      "cell_type": "code",
      "source": [
        "predict_solubility('Clc1ccc(C=O)cc1')"
      ],
      "metadata": {
        "colab": {
          "base_uri": "https://localhost:8080/"
        },
        "id": "RgC_z9iu4Ly8",
        "outputId": "0c9fc0b8-03c1-4d5e-8547-f56e96c06ef2"
      },
      "execution_count": null,
      "outputs": [
        {
          "output_type": "stream",
          "name": "stdout",
          "text": [
            "1/1 [==============================] - 0s 15ms/step\n"
          ]
        },
        {
          "output_type": "execute_result",
          "data": {
            "text/plain": [
              "-2.3301709"
            ]
          },
          "metadata": {},
          "execution_count": 25
        }
      ]
    },
    {
      "cell_type": "code",
      "source": [
        "plt.hist(df['Solubility'])"
      ],
      "metadata": {
        "colab": {
          "base_uri": "https://localhost:8080/",
          "height": 537
        },
        "id": "g1ETWYbX-ZC-",
        "outputId": "e3be228d-599f-469d-cc30-59d7c8999aa2"
      },
      "execution_count": null,
      "outputs": [
        {
          "output_type": "execute_result",
          "data": {
            "text/plain": [
              "(array([   4.,   11.,  124.,  538.,  738., 1478., 2382., 2612., 1561.,\n",
              "         534.]),\n",
              " array([-13.1719    , -11.64094184, -10.10998368,  -8.57902551,\n",
              "         -7.04806735,  -5.51710919,  -3.98615103,  -2.45519287,\n",
              "         -0.9242347 ,   0.60672346,   2.13768162]),\n",
              " <BarContainer object of 10 artists>)"
            ]
          },
          "metadata": {},
          "execution_count": 5
        },
        {
          "output_type": "display_data",
          "data": {
            "text/plain": [
              "<Figure size 640x480 with 1 Axes>"
            ],
            "image/png": "[encoded data removed]"
          },
          "metadata": {}
        }
      ]
    },
    {
      "cell_type": "code",
      "source": [
        "classification_df = pd.read_csv('solubility_classification.csv')"
      ],
      "metadata": {
        "id": "c3ZkhZuvkzIP"
      },
      "execution_count": null,
      "outputs": []
    },
    {
      "cell_type": "code",
      "source": [
        "len(classification_df)"
      ],
      "metadata": {
        "colab": {
          "base_uri": "https://localhost:8080/"
        },
        "id": "azwErd_dk4wp",
        "outputId": "87b99ce0-0ebb-45fa-9c27-c600a017e309"
      },
      "execution_count": null,
      "outputs": [
        {
          "output_type": "execute_result",
          "data": {
            "text/plain": [
              "9982"
            ]
          },
          "metadata": {},
          "execution_count": 8
        }
      ]
    },
    {
      "cell_type": "code",
      "source": [
        "len(df)"
      ],
      "metadata": {
        "colab": {
          "base_uri": "https://localhost:8080/"
        },
        "id": "Qpt340_Xk7iT",
        "outputId": "8400ce5e-febe-4b8a-bb6c-d8f87ce64c40"
      },
      "execution_count": null,
      "outputs": [
        {
          "output_type": "execute_result",
          "data": {
            "text/plain": [
              "9982"
            ]
          },
          "metadata": {},
          "execution_count": 9
        }
      ]
    },
    {
      "cell_type": "code",
      "source": [
        "soluble_df = df.loc[classification_df['Solubility'] == 1]\n",
        "np.array(soluble_df['Solubility']).min()"
      ],
      "metadata": {
        "colab": {
          "base_uri": "https://localhost:8080/"
        },
        "id": "WrjzXvY3k89L",
        "outputId": "2d270d0c-7afb-45f4-e8f2-ad65f1d17a90"
      },
      "execution_count": null,
      "outputs": [
        {
          "output_type": "execute_result",
          "data": {
            "text/plain": [
              "-2.618046836"
            ]
          },
          "metadata": {},
          "execution_count": 12
        }
      ]
    },
    {
      "cell_type": "code",
      "source": [
        "insoluble_df = df.loc[classification_df['Solubility'] == 0]\n",
        "np.array(insoluble_df['Solubility']).max()"
      ],
      "metadata": {
        "colab": {
          "base_uri": "https://localhost:8080/"
        },
        "id": "mCLQh7IHlhMJ",
        "outputId": "0ee10e7b-707a-4ceb-b186-2280e8b9236c"
      },
      "execution_count": null,
      "outputs": [
        {
          "output_type": "execute_result",
          "data": {
            "text/plain": [
              "-2.6183"
            ]
          },
          "metadata": {},
          "execution_count": 13
        }
      ]
    }
  ]
}