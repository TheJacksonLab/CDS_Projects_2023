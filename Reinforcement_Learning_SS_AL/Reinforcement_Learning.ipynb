{
  "nbformat": 4,
  "nbformat_minor": 0,
  "metadata": {
    "colab": {
      "provenance": []
    },
    "kernelspec": {
      "name": "python3",
      "display_name": "Python 3"
    },
    "language_info": {
      "name": "python"
    }
  },
  "cells": [
    {
      "cell_type": "code",
      "source": [
        "!pip install rdkit\n",
        "!pip install smilespe\n",
        "!pip install selfies"
      ],
      "metadata": {
        "colab": {
          "base_uri": "https://localhost:8080/"
        },
        "id": "rqKIqdGKNJvZ",
        "outputId": "5a0dbd88-63f9-4037-8394-62ae21158695"
      },
      "execution_count": 1,
      "outputs": [
        {
          "output_type": "stream",
          "name": "stdout",
          "text": [
            "Collecting rdkit\n",
            "  Downloading rdkit-2023.9.2-cp310-cp310-manylinux_2_17_x86_64.manylinux2014_x86_64.whl (30.5 MB)\n",
            "\u001b[2K     \u001b[90m━━━━━━━━━━━━━━━━━━━━━━━━━━━━━━━━━━━━━━━━\u001b[0m \u001b[32m30.5/30.5 MB\u001b[0m \u001b[31m34.2 MB/s\u001b[0m eta \u001b[36m0:00:00\u001b[0m\n",
            "\u001b[?25hRequirement already satisfied: numpy in /usr/local/lib/python3.10/dist-packages (from rdkit) (1.23.5)\n",
            "Requirement already satisfied: Pillow in /usr/local/lib/python3.10/dist-packages (from rdkit) (9.4.0)\n",
            "Installing collected packages: rdkit\n",
            "Successfully installed rdkit-2023.9.2\n",
            "Collecting smilespe\n",
            "  Downloading SmilesPE-0.0.3-py3-none-any.whl (15 kB)\n",
            "Requirement already satisfied: fastprogress in /usr/local/lib/python3.10/dist-packages (from smilespe) (1.0.3)\n",
            "Requirement already satisfied: gensim in /usr/local/lib/python3.10/dist-packages (from smilespe) (4.3.2)\n",
            "Requirement already satisfied: numpy>=1.18.5 in /usr/local/lib/python3.10/dist-packages (from gensim->smilespe) (1.23.5)\n",
            "Requirement already satisfied: scipy>=1.7.0 in /usr/local/lib/python3.10/dist-packages (from gensim->smilespe) (1.11.4)\n",
            "Requirement already satisfied: smart-open>=1.8.1 in /usr/local/lib/python3.10/dist-packages (from gensim->smilespe) (6.4.0)\n",
            "Installing collected packages: smilespe\n",
            "Successfully installed smilespe-0.0.3\n",
            "Collecting selfies\n",
            "  Downloading selfies-2.1.1-py3-none-any.whl (35 kB)\n",
            "Installing collected packages: selfies\n",
            "Successfully installed selfies-2.1.1\n"
          ]
        }
      ]
    },
    {
      "cell_type": "code",
      "execution_count": 2,
      "metadata": {
        "id": "nLiLEkG0zIvt"
      },
      "outputs": [],
      "source": [
        "import numpy as np\n",
        "import pickle\n",
        "import pandas as pd\n",
        "\n",
        "import selfies as sf\n",
        "from rdkit import Chem\n",
        "from rdkit.Chem import Draw\n",
        "from rdkit.Chem import Descriptors\n",
        "import matplotlib.pyplot as plt\n",
        "\n",
        "import tensorflow as tf\n",
        "from tensorflow import keras\n",
        "from keras.models import Sequential, load_model\n",
        "from sklearn.preprocessing import StandardScaler"
      ]
    },
    {
      "cell_type": "code",
      "source": [
        "# Generate molecules from an initial character\n",
        "unique_chars = ['!', 'E', '[#Branch1]', '[#Branch2]', '[#C]', '[#N]', '[=Branch1]', '[=Branch2]', '[=C]', '[=N]', '[=O]', '[=Ring1]', '[=Ring2]', '[=S]', '[Br]', '[Branch1]', '[Branch2]', '[C]', '[Cl]', '[F]', '[H]', '[NH1]', '[N]', '[O]', '[P]', '[Ring1]', '[Ring2]', '[S]']\n",
        "char_to_int = dict((c,i) for i,c in enumerate(unique_chars))\n",
        "int_to_char = dict((i,c) for i,c in enumerate(unique_chars))\n",
        "\n",
        "generative_model = load_model('generative_model_selfies_best.h5')\n",
        "\n",
        "def generate_mol(start_char):\n",
        "  # Probability array\n",
        "  prob_array = []\n",
        "\n",
        "  # Encode the start character\n",
        "  char_vec = np.zeros((1,1,len(unique_chars)))\n",
        "  char_vec[0,0,char_to_int[start_char]] = 1\n",
        "  smi_string = start_char\n",
        "\n",
        "  # Predict the first character\n",
        "  predict = generative_model(char_vec) # Generates probabilities of next char\n",
        "  next_char = int_to_char[np.random.choice(np.arange(0,len(char_to_int)), p=predict.numpy().flatten())]\n",
        "  prob_array.append(predict)\n",
        "  smi_string += next_char # append the generated character to the SMILES string\n",
        "  next_char_encoded = np.zeros((1,1,len(unique_chars)))\n",
        "  next_char_encoded[0,0,char_to_int[next_char]] = 1 # Encode the predicted char\n",
        "  char_vec = np.append(char_vec, next_char_encoded, axis=1) # Append it to starting char\n",
        "\n",
        "  # Repeat the above prediction tasks until we hit the ending token 'E'\n",
        "  while next_char != 'E':\n",
        "    prediction = generative_model(np.expand_dims(char_vec[:,-1,:], axis = 1))\n",
        "    next_char = int_to_char[np.random.choice(np.arange(0,len(char_to_int)), size=None, replace=True, p=prediction.numpy().flatten())]\n",
        "    prob_array.append(prediction)\n",
        "\n",
        "    next_char_encoded = np.zeros((1,1,len(unique_chars)))\n",
        "    next_char_encoded[0,0,char_to_int[next_char]] = 1\n",
        "    char_vec = np.append(char_vec, next_char_encoded, axis=1)\n",
        "    smi_string += next_char\n",
        "\n",
        "  return smi_string, prob_array"
      ],
      "metadata": {
        "id": "rT_cL3oDbK6V"
      },
      "execution_count": 3,
      "outputs": []
    },
    {
      "cell_type": "code",
      "source": [
        "def remove_e(smiles_output):\n",
        "  clean_smiles = []\n",
        "  for smi in smiles_output:\n",
        "    smi_clean = smi[:-1]\n",
        "    clean_smiles.append(smi_clean)\n",
        "  clean_smiles = [s.replace('!', '') for s in clean_smiles]\n",
        "  return clean_smiles"
      ],
      "metadata": {
        "id": "ezTxkZkzdrfF"
      },
      "execution_count": 4,
      "outputs": []
    },
    {
      "cell_type": "code",
      "source": [
        "def pick_first_char():\n",
        "  '''\n",
        "    Randomly selects the starting atom from a probability distribution of atoms\n",
        "    calculated from the distribution of starting atoms in the training set\n",
        "  '''\n",
        "  # Probability distribution of first tokens taken from GenerativeModel.ipnyb\n",
        "  first_token_probs = [1.35408172e-01, 8.07809908e-01, 4.94337731e-02, 4.92745453e-03, 8.39173479e-04, 1.46102254e-03, 1.20496705e-04]\n",
        "\n",
        "  # Unique first tokens that the probabilities are referencing\n",
        "  unq_tokens = ['[O]', '[C]', '[N]', '[F]', '[Br]', '[Cl]', '[H]']\n",
        "\n",
        "  # Run below each time you generate a new molecule - it gives the starting token\n",
        "  starting_char_num = np.random.choice(np.arange(0,len(unq_tokens)), p = first_token_probs)\n",
        "  starting_char = unq_tokens[starting_char_num]\n",
        "  return starting_char"
      ],
      "metadata": {
        "id": "i1q22YmYqUKn"
      },
      "execution_count": 5,
      "outputs": []
    },
    {
      "cell_type": "code",
      "source": [
        "# load predictive model\n",
        "descriptors = ['MolWt','MolLogP','MolMR','HeavyAtomCount','NumHAcceptors','NumHDonors','NumHeteroatoms',\n",
        "    'NumRotatableBonds','NumValenceElectrons','NumAromaticRings','NumSaturatedRings','NumAliphaticRings','RingCount','TPSA',\n",
        "    'LabuteASA','BalabanJ','BertzCT']\n",
        "\n",
        "with open('X_scaler.pkl', 'rb') as f:\n",
        "  x_scaler = pickle.load(f)\n",
        "\n",
        "predictive_model = load_model(f'256_128_64_32_elu_10x-3_32.h5')\n",
        "\n",
        "# Used to test appending the smi to the MMLI best performer to learn how to optimize the solubility\n",
        "# The \"I\" at the end of the molecule is to mark where the generated predictions will be appended\n",
        "# best_MMLI_performer = Chem.MolFromSmiles('O=C2C1=C(C=CC=C1)C(=O)C3=C2C=CC(=C3)C5=CC=C(S5)C4=CC=C(S4)I')\n",
        "\n",
        "\n",
        "def get_features_from_smi(smi, descriptors):\n",
        "  '''\n",
        "    Returns a numpy array of the rdkit descriptors of the molecule formed\n",
        "    by adding smi to the best MMLI performer\n",
        "  '''\n",
        "  try:\n",
        "    mol = Chem.MolFromSmiles(smi)\n",
        "  except:\n",
        "    return []\n",
        "  # combo = Chem.ReplaceSubstructs(best_MMLI_performer,\n",
        "  #                                Chem.MolFromSmiles('I'),\n",
        "  #                                mol,\n",
        "  #                                replaceAll=True)\n",
        "  # combo_mol = combo[0]\n",
        "  # try:\n",
        "  #   Chem.SanitizeMol(combo_mol)\n",
        "  # except:\n",
        "  #   return []\n",
        "\n",
        "  descriptor_dict = Descriptors.CalcMolDescriptors(mol)\n",
        "  features = np.array([descriptor_dict[desc] for desc in descriptors])\n",
        "  return features\n",
        "\n",
        "def predict_solubility(smiles):\n",
        "  '''\n",
        "    Predicts the solubility of the given molecule described by smi,\n",
        "    returns \"invalid smi\" if RDKit is unable to get a molecule from the smiles string\n",
        "  '''\n",
        "  all_smi_X = []\n",
        "  invalid = []\n",
        "  for smi in smiles:\n",
        "    smi_X = get_features_from_smi(smi, descriptors)\n",
        "    if len(smi_X) == 0:\n",
        "      invalid.append(smi)\n",
        "    else:\n",
        "      all_smi_X.append(smi_X)\n",
        "  if len(all_smi_X) > 0:\n",
        "    all_smi_X_std = x_scaler.transform(np.array(all_smi_X))\n",
        "    y_pred = predictive_model(all_smi_X_std)\n",
        "    if len(invalid) == 0:\n",
        "      invalid = \"all valid\"\n",
        "    return y_pred, invalid\n",
        "  else:\n",
        "    return \"all invalid\", invalid"
      ],
      "metadata": {
        "id": "TRS6eXSGg8yv"
      },
      "execution_count": 26,
      "outputs": []
    },
    {
      "cell_type": "code",
      "source": [
        "def benchmark_predicted_solubility(n_to_generate):\n",
        "    '''\n",
        "      Generates n_to_generate unique molecules and predicts their solubility\n",
        "      returns generated_smiles(list), prediction(list)\n",
        "      where the prediction for generated_smiles[i] is prediction[i]\n",
        "    '''\n",
        "    generated_smiles = []\n",
        "    i = 0\n",
        "    while i < n_to_generate:\n",
        "        starting_char = pick_first_char()\n",
        "        selfies, prob = generate_mol(starting_char)\n",
        "        selfies_clean = remove_e([selfies])\n",
        "        selfie = selfies_clean[0]\n",
        "        smiles = sf.decoder(selfie)\n",
        "        generated_smiles.append(smiles)\n",
        "        i += 1\n",
        "\n",
        "    prediction, invalid = predict_solubility(np.array(generated_smiles))\n",
        "\n",
        "    if type(invalid) != str:\n",
        "      for smi in invalid:\n",
        "        generated_smiles.remove(smi)\n",
        "\n",
        "    return generated_smiles, prediction, invalid\n"
      ],
      "metadata": {
        "id": "43347RZ-c2q5"
      },
      "execution_count": 7,
      "outputs": []
    },
    {
      "cell_type": "code",
      "source": [
        "def solubility_rewards(smi):\n",
        "  '''\n",
        "    Predicts the solubility of the generated molecule and returns as reward\n",
        "    based on the predicted solubility\n",
        "    Reward: -1.1 for invalid smiles string\n",
        "    -1 for insoluble molecule (solubility < -2.62)\n",
        "    prediction + 5 for soluble molecule\n",
        "  '''\n",
        "  # prediction = predict_solubility(np.array([smi]))\n",
        "  pred, invalid = predict_solubility(np.array([smi]))\n",
        "  if type(pred) == str:\n",
        "    return -1.1\n",
        "  pred = pred.numpy()[0][0]\n",
        "  if pred < -2.62:\n",
        "    return -1\n",
        "  return pred + 5"
      ],
      "metadata": {
        "id": "AiLksAIol9L4"
      },
      "execution_count": 27,
      "outputs": []
    },
    {
      "cell_type": "code",
      "source": [
        "from SmilesPE.pretokenizer import atomwise_tokenizer\n",
        "\n",
        "def policy_gradient(generative_model, gamma = 0.97):\n",
        "  '''\n",
        "    Updates the policy gradients of the generative model,\n",
        "    gamma: hyperparameter controlling how much the effect of the reward gets\n",
        "    back-propagated with each step away from the end of the generated SELFIES string\n",
        "\n",
        "    Returns: reward (float) of the prediction\n",
        "  '''\n",
        "  accum_loss = 0\n",
        "  starting_char = pick_first_char()\n",
        "  # starting_char = '[C]'\n",
        "  with tf.GradientTape() as tape:\n",
        "    selfies, prob = generate_mol(starting_char)\n",
        "    selfies_clean = remove_e([selfies])\n",
        "    selfie = selfies_clean[0]\n",
        "    try:\n",
        "      smiles = sf.decoder(selfie)\n",
        "    except:\n",
        "      # this occasionally threw a stack overflow error with long selfie strings\n",
        "      print(selfie)\n",
        "      return -70\n",
        "    # get reward from prediction\n",
        "    reward = solubility_rewards(smiles)\n",
        "    discounted_reward = reward\n",
        "\n",
        "    # Accumulate the loss from the trajectory of the SELFIES string generation\n",
        "    log_probs = tf.nn.log_softmax(tf.convert_to_tensor(prob))\n",
        "    for p in range(len(atomwise_tokenizer(sf.encoder(smiles)))-1):\n",
        "      accum_loss -= (log_probs[p]*discounted_reward)\n",
        "      discounted_reward = discounted_reward * gamma\n",
        "\n",
        "  try:\n",
        "    policy_grad = tape.gradient(accum_loss, generative_model.trainable_variables)\n",
        "    generative_model.optimizer.apply_gradients(\n",
        "        zip(policy_grad, generative_model.trainable_variables)\n",
        "    )\n",
        "  except:\n",
        "    # if accum_loss is 0, tape.gradient fails, is caught here\n",
        "    return\n",
        "  result = reward\n",
        "  return result\n"
      ],
      "metadata": {
        "id": "0iUA2DGxnQqw"
      },
      "execution_count": 29,
      "outputs": []
    },
    {
      "cell_type": "code",
      "source": [
        "# before reinforcement loops\n",
        "smiles_unbiased, prediction_unbiased, invalid = benchmark_predicted_solubility(100)"
      ],
      "metadata": {
        "id": "NaJV4hV3kXLD"
      },
      "execution_count": 35,
      "outputs": []
    },
    {
      "cell_type": "code",
      "source": [
        "# plot distribution of solubility of generated molecules\n",
        "plt.hist(np.squeeze(prediction_unbiased), bins=15)"
      ],
      "metadata": {
        "colab": {
          "base_uri": "https://localhost:8080/",
          "height": 555
        },
        "id": "Y3edM1uQXpF4",
        "outputId": "1f65b4f8-9ba6-491f-d816-25d81b1c0c4b"
      },
      "execution_count": 36,
      "outputs": [
        {
          "output_type": "execute_result",
          "data": {
            "text/plain": [
              "(array([ 3.,  6.,  3., 10.,  5.,  4.,  5., 10.,  7., 11.,  6.,  6.,  7.,\n",
              "         5., 12.]),\n",
              " array([-6.87601089, -6.31274033, -5.74946928, -5.18619823, -4.62292767,\n",
              "        -4.0596571 , -3.49638605, -2.93311524, -2.36984444, -1.80657363,\n",
              "        -1.24330282, -0.68003201, -0.11676121,  0.4465096 ,  1.00978041,\n",
              "         1.57305121]),\n",
              " <BarContainer object of 15 artists>)"
            ]
          },
          "metadata": {},
          "execution_count": 36
        },
        {
          "output_type": "display_data",
          "data": {
            "text/plain": [
              "<Figure size 640x480 with 1 Axes>"
            ],
            "image/png": "[encoded data removed]"
          },
          "metadata": {}
        }
      ]
    },
    {
      "cell_type": "code",
      "source": [
        "smiles_unbiased"
      ],
      "metadata": {
        "colab": {
          "base_uri": "https://localhost:8080/"
        },
        "id": "iql-xcSVoQqo",
        "outputId": "adced710-4378-4862-c60c-3ada2c2a7e66"
      },
      "execution_count": 69,
      "outputs": [
        {
          "output_type": "execute_result",
          "data": {
            "text/plain": [
              "['CCCCCCO',\n",
              " 'CCCCCCOCSCCCCCC=CCCCCCCO',\n",
              " 'CO',\n",
              " 'CCO',\n",
              " 'CN',\n",
              " 'C1CC=NCCCOC1=NN=NN',\n",
              " 'COCN(C1)CCCCNS1C2CCC=NCOC3S(C)CCN=C23',\n",
              " 'C1CCCCOCCCCCC=CCC(CCCC2CNN1CCC2CCC=CCC)C=NN',\n",
              " 'CCC=NNSCCCCCC=CCS(C)CCOCN=NCCCCCCCCCCCCCN=CCOS(C)CCCOCN(CCN1NS(C)CO1)CCN=C(C)N=NNS(C)O',\n",
              " 'C1CCCCCCCCCCN=NN1CCCCOCC=NN',\n",
              " 'C1CCCCCOP2N1S3(C)COCN23',\n",
              " 'CN(C)CCCCCN=CCCCCNN',\n",
              " 'CCCCCCCC1CCNCCN1',\n",
              " 'N1(CN=CN1COCCC=CNC=CN=CNC)CCCC=C[NH1]CCOCO',\n",
              " 'O=C1CN=CN=CS(C2)CCNS2OCCCCCC=CNCN1',\n",
              " 'CCCN',\n",
              " 'CC#N',\n",
              " 'CCOSO',\n",
              " 'CC(C)N',\n",
              " 'O',\n",
              " 'C1C=C(C)CC=C(C)CCCC2CCCN1CO2',\n",
              " 'CCCCN=S(C)N',\n",
              " 'CCC=C[NH1]NCCCCCO',\n",
              " 'O=CCCC=CS(C)CCCCCCCOC(C)OCCC1N=C2CC3CCCS2CCC(C)=CC4CCN3CN=NN1CN4',\n",
              " 'CCCCCCCCCN',\n",
              " 'C12N=C1N=NN2CCN=NN',\n",
              " 'C1NNCCOC(C)CCCN=NN1CNO',\n",
              " 'NCCCCCCC=CN(C)COCCCCCCCCCCOCCC1CCCCN1C=CS(C)O',\n",
              " 'CCOCCCCCCCOCNN',\n",
              " 'CCCCCCCCCCCOCCCN=C(C)N=C(C)CCCCCN',\n",
              " 'C1NN1CCCCCOCCCNCCC2OC(O)=CS2N',\n",
              " 'CO',\n",
              " 'O',\n",
              " 'C1CN=NN=CN1CCCNNS(O)=COCC=CCCCCCCC',\n",
              " 'CC=CN=S(C)C=CCCOCO',\n",
              " 'COCN',\n",
              " 'O=C[NH1]CCC',\n",
              " 'O=CCCCCCOCCCNC#CCCO',\n",
              " 'C1COCCCOCCCCCCCC=CCCNN1CCC2COCCCOCCN=NN(C)CNCCCCN=CN=C(N)CN=CCCCCN2CCN',\n",
              " 'CC1COCCCCNCCN1CCNSCCCCOCNCCN',\n",
              " 'CCCCCOC(C)NC(C[NH1]CCCCC(C)N)CO',\n",
              " 'CO',\n",
              " 'COCNS(C)OCCCCCOCNN=CSC#N',\n",
              " 'CCC=CCCCCOCCOCCCCCCOCSCCOCCCOCSCCCCCCCCl',\n",
              " 'CCCCC1CCCC=C1CCOCN(COCCCNCCCCC)CCO',\n",
              " 'CCCCCO',\n",
              " 'CN',\n",
              " 'CCC',\n",
              " 'CN',\n",
              " 'CCCC(C)CCN',\n",
              " 'C1CCCCCOCSN=CCO1',\n",
              " 'N=CCCCCCC(N)C1CCC2CC=CCCCCCC=CCCC2CCCCN1CCCCCCCCC3CN=C4[NH1]N=C[NH1]N=C4CCOCC(C)CCCCOCN3CCCN=CN=CCCCC=CNCCCO',\n",
              " 'CCCN=CN',\n",
              " 'C1COC(O)=CCC1CCCC2CCOCCCC=CS(C)(C)C=3CCCC=3C=C(C)CCN2COCN=CCCCCCN',\n",
              " 'N=CCCO',\n",
              " 'C=CCCCCCN',\n",
              " 'N=CN',\n",
              " 'C1N(CCCCCOC1C)OCCCCO',\n",
              " 'N1CN=C1CCCN=CCC=CS(C)CCCCCCCCCCCCCCCO',\n",
              " 'CC',\n",
              " 'CCCC1CCC=CS1(C)CC=CCCC=C[NH1]CN=CCCNN',\n",
              " 'CCOPCCC=CS(C)CN=NN(C)CCCCCCC1CCOCCOCN=CN=NN=NOC1(N)NNN=C2CCCCO2',\n",
              " 'CCCCCCCCCCCCCN',\n",
              " 'C1CCCCCCCN=CN1CCCCCO',\n",
              " 'C12OC1CN2CNNS(O)=CCCN',\n",
              " 'O',\n",
              " 'N1=C[NH1]CCN1O',\n",
              " 'C(O)=CN(O)CC=CCCCNNS(C)N=NN',\n",
              " 'C=1C(N)(CCCC=1C=2CCCC)CCCCN(C=C(C)CN=CS(C)CCCCN=2)S(O)=CN(C)OCOCCCCCCN(COCCCCCCCN=CN=CCCOCCCNSC)CCC(C)CCCOCS(C)OCCC3CNCCN3CC=CCCCCO',\n",
              " 'F',\n",
              " 'CCN',\n",
              " 'CCCCNCCCC1CN(C)N=C1CCCCOC[NH1]CCCCCC2CCCN=CN2CC3CCCCC4CCOCS4C=C(C)C=CS3CCN=CCCC=CCCOS(C)CCCOCCO',\n",
              " 'CCO',\n",
              " 'CCCCCC=NNN',\n",
              " 'CCC(C)=CCCCC=C1CN(C)CO1',\n",
              " 'CCCN(N)CCCCCCCCC',\n",
              " 'O=C(C)CO',\n",
              " 'C1OC(CCCN=CN=CN1)=S(C)CCCCN',\n",
              " 'COCCCNC1CCCCO1',\n",
              " 'CCCCCCCCOCC=CSCCCCCCCCCCCN',\n",
              " 'O',\n",
              " 'CCCC=CCCCCCCCCCCC=CCCCOCC(CCCC1CCCCCC1C2OCCN=NNCCCCC=CC2CCCCC(C)CCC3CCCC=CN3C)CO',\n",
              " 'CCO',\n",
              " 'CCN=CCCC1=C(C)N=CSCCCCCCCCCCCCCCNN1CCCCCCCN=NC(C)CN=NNCCCCNCCCCCCCCOCCOCCCOS(C)CO',\n",
              " 'CCCCOCN',\n",
              " 'CCCCN=CC=CCCCCCCCCCCN=C(C)CO',\n",
              " 'O=CN=CCCCC1CCOCCCCC=CN1COCC=NN=CNC=C(O)CCCCN(C)COCCCCCCCN',\n",
              " 'C=NCCN=CC1CC=CCCCCOCOCN(C)NOCC=CS(N)CCCC=CN1S(C)NCN',\n",
              " 'CCOO',\n",
              " 'O=CCCCCOCOCNCCCCCOS(C)CCCCCN',\n",
              " 'CCOCOCN(O)CCCC1CCCCCCCCC=C(O)CN1N=C(C)CCCCCO',\n",
              " 'C1C2OCCCCN2C3COCS1S3CCCOCCN=CCCCCO',\n",
              " 'O=C(C)C[NH1]CCCO',\n",
              " 'C1CCCN1CCCCCC(C)CCN=CCCCNCCN',\n",
              " 'CC=C[NH1]CCCCC(=C)CCCCCN=C(N)CCCCCO',\n",
              " 'CCCOCCCCOCCCCCCCCCCCNS(C)C=CSCCOCCCCCCCCCN',\n",
              " 'CNCC=CCCCCCCCCOCCOCCCCC=CN',\n",
              " 'CCCOCCCO',\n",
              " 'C=1C=CCN=1',\n",
              " 'CSCCCCO']"
            ]
          },
          "metadata": {},
          "execution_count": 69
        }
      ]
    },
    {
      "cell_type": "code",
      "source": [
        "rewards = []"
      ],
      "metadata": {
        "id": "YgJKMfSAzKdU"
      },
      "execution_count": 13,
      "outputs": []
    },
    {
      "cell_type": "code",
      "source": [
        "def run_iters(n_iterations):\n",
        "  for _ in range(n_iterations):\n",
        "    rewards.append(policy_gradient(generative_model))\n",
        "  plt.plot(range(1,len(rewards)+1), rewards)\n",
        "  plt.xlabel(\"Iteration Number\")\n",
        "  plt.ylabel(\"Reward\")"
      ],
      "metadata": {
        "id": "JGTz4DRLXpLP"
      },
      "execution_count": 14,
      "outputs": []
    },
    {
      "cell_type": "code",
      "source": [
        "run_iters(5)"
      ],
      "metadata": {
        "colab": {
          "base_uri": "https://localhost:8080/",
          "height": 449
        },
        "id": "XTFj5__jYBJB",
        "outputId": "de3134ff-6a71-42f3-b0dd-d50cafdb0fbc"
      },
      "execution_count": 63,
      "outputs": [
        {
          "output_type": "display_data",
          "data": {
            "text/plain": [
              "<Figure size 640x480 with 1 Axes>"
            ],
            "image/png": "[encoded data removed]"
          },
          "metadata": {}
        }
      ]
    },
    {
      "cell_type": "code",
      "source": [
        "# after reinforcement loops\n",
        "smiles_biased, prediction_biased, invalid_biased = benchmark_predicted_solubility(100)"
      ],
      "metadata": {
        "id": "YFxpEN0BYfh1"
      },
      "execution_count": 64,
      "outputs": []
    },
    {
      "cell_type": "code",
      "source": [
        "len(smiles_biased)"
      ],
      "metadata": {
        "colab": {
          "base_uri": "https://localhost:8080/"
        },
        "id": "OxOxqk0WbR_S",
        "outputId": "ef76f416-dccd-42b3-860b-4835644fe142"
      },
      "execution_count": 43,
      "outputs": [
        {
          "output_type": "execute_result",
          "data": {
            "text/plain": [
              "100"
            ]
          },
          "metadata": {},
          "execution_count": 43
        }
      ]
    },
    {
      "cell_type": "code",
      "source": [
        "plt.hist(np.squeeze(prediction_biased), bins=15)\n",
        "plt.xlabel(\"Solubility\")\n",
        "plt.ylabel(\"Count\")"
      ],
      "metadata": {
        "colab": {
          "base_uri": "https://localhost:8080/",
          "height": 467
        },
        "id": "pHrjKpd0Ym5j",
        "outputId": "bab676ed-79a9-4212-ab64-f04801c9fc8a"
      },
      "execution_count": 76,
      "outputs": [
        {
          "output_type": "execute_result",
          "data": {
            "text/plain": [
              "Text(0, 0.5, 'Count')"
            ]
          },
          "metadata": {},
          "execution_count": 76
        },
        {
          "output_type": "display_data",
          "data": {
            "text/plain": [
              "<Figure size 640x480 with 1 Axes>"
            ],
            "image/png": "[encoded data removed]"
          },
          "metadata": {}
        }
      ]
    },
    {
      "cell_type": "code",
      "source": [
        "smiles_biased"
      ],
      "metadata": {
        "colab": {
          "base_uri": "https://localhost:8080/"
        },
        "id": "2beg9ydBdvRV",
        "outputId": "f0f9ce82-71fe-46d4-b1ef-b33598e68efb"
      },
      "execution_count": 66,
      "outputs": [
        {
          "output_type": "execute_result",
          "data": {
            "text/plain": [
              "['C=N',\n",
              " 'C1#CCCCN1',\n",
              " 'CCCO',\n",
              " 'O',\n",
              " 'O',\n",
              " 'C12=CS1CNCC=CS2CNSCO',\n",
              " 'C=N',\n",
              " 'O',\n",
              " 'CF',\n",
              " 'CO',\n",
              " 'C1C=CN1',\n",
              " 'C#1C=CS#1',\n",
              " 'C=O',\n",
              " 'COO',\n",
              " 'CNCC=NO',\n",
              " 'C#1NP#1',\n",
              " 'C123CN(NC=CSC1N)CC2NCN3',\n",
              " 'C1=CSC=CSCN1',\n",
              " 'C1#CNN1',\n",
              " 'CO',\n",
              " 'CO',\n",
              " 'CNNCO',\n",
              " 'CO',\n",
              " 'O',\n",
              " 'C=N',\n",
              " 'C1CN1CCO',\n",
              " 'CCOO',\n",
              " 'C#N',\n",
              " 'C1#CCN(C=C1)SCNCF',\n",
              " 'CO',\n",
              " 'CCO',\n",
              " 'C=N',\n",
              " 'C=N',\n",
              " 'C=N',\n",
              " 'O',\n",
              " 'C#CCO',\n",
              " 'O',\n",
              " 'C',\n",
              " 'O',\n",
              " 'C(N)C=CSCNCO',\n",
              " 'C=1=NCS=1CNSNCl',\n",
              " 'C=N',\n",
              " 'C=1=CS=1N',\n",
              " 'COO',\n",
              " 'COO',\n",
              " 'CO',\n",
              " 'C1CCNN1',\n",
              " 'COCO',\n",
              " 'C',\n",
              " 'O',\n",
              " 'CO',\n",
              " 'O',\n",
              " 'C=N',\n",
              " 'C#C',\n",
              " 'N',\n",
              " 'C1CNN1',\n",
              " 'C#N',\n",
              " 'CNCN',\n",
              " 'C=C',\n",
              " 'NCO',\n",
              " 'CCO',\n",
              " 'O',\n",
              " 'C=N',\n",
              " 'CN',\n",
              " 'CNCO',\n",
              " 'C1NNCN1',\n",
              " 'C1#CP1COF',\n",
              " 'C=N',\n",
              " 'CO',\n",
              " 'CO',\n",
              " 'CNCO',\n",
              " 'O',\n",
              " 'N',\n",
              " 'C=N',\n",
              " 'C1CN1',\n",
              " 'C#S',\n",
              " 'C1CNN1',\n",
              " 'CO',\n",
              " 'CO',\n",
              " 'O=O',\n",
              " 'O',\n",
              " 'C12=CS1CN2',\n",
              " 'CNCCN',\n",
              " 'CO',\n",
              " 'C1C=SN1',\n",
              " 'CO',\n",
              " 'C=1C=C=1',\n",
              " 'N',\n",
              " 'COO',\n",
              " 'C1CN1',\n",
              " 'C=1=CSCNC=1',\n",
              " 'CO',\n",
              " 'C1=2NS1C=2',\n",
              " 'CO',\n",
              " 'OCl',\n",
              " 'C',\n",
              " 'CO',\n",
              " 'CCO',\n",
              " 'C=1=CS=1CN',\n",
              " 'CO']"
            ]
          },
          "metadata": {},
          "execution_count": 66
        }
      ]
    },
    {
      "cell_type": "code",
      "source": [
        "top_idxs = np.array(np.squeeze(prediction_biased.numpy())).argsort()"
      ],
      "metadata": {
        "id": "fey-U666pm29"
      },
      "execution_count": 71,
      "outputs": []
    },
    {
      "cell_type": "code",
      "source": [
        "top_idxs"
      ],
      "metadata": {
        "colab": {
          "base_uri": "https://localhost:8080/"
        },
        "id": "QnLgCRGNn69O",
        "outputId": "0fdde387-0d85-4c6b-dc06-b1aa74e63067"
      },
      "execution_count": 72,
      "outputs": [
        {
          "output_type": "execute_result",
          "data": {
            "text/plain": [
              "array([48, 37, 95, 49, 80, 61, 51, 38, 36, 34, 23, 71,  3,  4,  7, 86, 17,\n",
              "       11,  8, 66, 28, 40, 53, 58,  5, 16, 90, 15, 75, 81, 92, 18, 39, 42,\n",
              "       98, 79, 84, 94, 13, 88, 44, 43, 27, 56, 12,  2, 14, 26, 10, 65, 82,\n",
              "       25, 35,  1, 57, 46, 47, 97, 30, 60, 21, 55, 76, 59, 77, 91, 78, 96,\n",
              "       83, 93, 85, 99,  9, 69, 68, 19, 20, 22, 29, 50, 45, 64, 70, 41,  6,\n",
              "       24, 31, 32,  0, 33, 52, 62, 67, 73, 63, 89, 74, 54, 87, 72])"
            ]
          },
          "metadata": {},
          "execution_count": 72
        }
      ]
    },
    {
      "cell_type": "code",
      "source": [
        "sorted_smiles_biased = [smiles_biased[idx] for idx in top_idxs]"
      ],
      "metadata": {
        "id": "8G0900T6p6zW"
      },
      "execution_count": 73,
      "outputs": []
    },
    {
      "cell_type": "code",
      "source": [
        "sorted_smiles_biased"
      ],
      "metadata": {
        "colab": {
          "base_uri": "https://localhost:8080/"
        },
        "id": "YtOlclvgqN2x",
        "outputId": "02a5ee6e-59c4-416f-9e2f-9fe6402edd7f"
      },
      "execution_count": 74,
      "outputs": [
        {
          "output_type": "execute_result",
          "data": {
            "text/plain": [
              "['C',\n",
              " 'C',\n",
              " 'C',\n",
              " 'O',\n",
              " 'O',\n",
              " 'O',\n",
              " 'O',\n",
              " 'O',\n",
              " 'O',\n",
              " 'O',\n",
              " 'O',\n",
              " 'O',\n",
              " 'O',\n",
              " 'O',\n",
              " 'O',\n",
              " 'C=1C=C=1',\n",
              " 'C1=CSC=CSCN1',\n",
              " 'C#1C=CS#1',\n",
              " 'CF',\n",
              " 'C1#CP1COF',\n",
              " 'C1#CCN(C=C1)SCNCF',\n",
              " 'C=1=NCS=1CNSNCl',\n",
              " 'C#C',\n",
              " 'C=C',\n",
              " 'C12=CS1CNCC=CS2CNSCO',\n",
              " 'C123CN(NC=CSC1N)CC2NCN3',\n",
              " 'C=1=CSCNC=1',\n",
              " 'C#1NP#1',\n",
              " 'C#S',\n",
              " 'C12=CS1CN2',\n",
              " 'C1=2NS1C=2',\n",
              " 'C1#CNN1',\n",
              " 'C(N)C=CSCNCO',\n",
              " 'C=1=CS=1N',\n",
              " 'C=1=CS=1CN',\n",
              " 'O=O',\n",
              " 'C1C=SN1',\n",
              " 'OCl',\n",
              " 'COO',\n",
              " 'COO',\n",
              " 'COO',\n",
              " 'COO',\n",
              " 'C#N',\n",
              " 'C#N',\n",
              " 'C=O',\n",
              " 'CCCO',\n",
              " 'CNCC=NO',\n",
              " 'CCOO',\n",
              " 'C1C=CN1',\n",
              " 'C1NNCN1',\n",
              " 'CNCCN',\n",
              " 'C1CN1CCO',\n",
              " 'C#CCO',\n",
              " 'C1#CCCCN1',\n",
              " 'CNCN',\n",
              " 'C1CCNN1',\n",
              " 'COCO',\n",
              " 'CCO',\n",
              " 'CCO',\n",
              " 'CCO',\n",
              " 'CNNCO',\n",
              " 'C1CNN1',\n",
              " 'C1CNN1',\n",
              " 'NCO',\n",
              " 'CO',\n",
              " 'CO',\n",
              " 'CO',\n",
              " 'CO',\n",
              " 'CO',\n",
              " 'CO',\n",
              " 'CO',\n",
              " 'CO',\n",
              " 'CO',\n",
              " 'CO',\n",
              " 'CO',\n",
              " 'CO',\n",
              " 'CO',\n",
              " 'CO',\n",
              " 'CO',\n",
              " 'CO',\n",
              " 'CO',\n",
              " 'CNCO',\n",
              " 'CNCO',\n",
              " 'C=N',\n",
              " 'C=N',\n",
              " 'C=N',\n",
              " 'C=N',\n",
              " 'C=N',\n",
              " 'C=N',\n",
              " 'C=N',\n",
              " 'C=N',\n",
              " 'C=N',\n",
              " 'C=N',\n",
              " 'C=N',\n",
              " 'CN',\n",
              " 'C1CN1',\n",
              " 'C1CN1',\n",
              " 'N',\n",
              " 'N',\n",
              " 'N']"
            ]
          },
          "metadata": {},
          "execution_count": 74
        }
      ]
    },
    {
      "cell_type": "code",
      "source": [
        "predict_solubility(['C1CN1'])"
      ],
      "metadata": {
        "colab": {
          "base_uri": "https://localhost:8080/"
        },
        "id": "suaHYcIDqgMf",
        "outputId": "7ba63254-3805-4054-9678-efa43b4b7d46"
      },
      "execution_count": 75,
      "outputs": [
        {
          "output_type": "execute_result",
          "data": {
            "text/plain": [
              "(<tf.Tensor: shape=(1, 1), dtype=float32, numpy=array([[1.7113681]], dtype=float32)>,\n",
              " 'all valid')"
            ]
          },
          "metadata": {},
          "execution_count": 75
        }
      ]
    },
    {
      "cell_type": "code",
      "source": [
        "generative_model.save('generative_model_5_RL_iters.h5')"
      ],
      "metadata": {
        "colab": {
          "base_uri": "https://localhost:8080/"
        },
        "id": "cqn-dNM6BQeD",
        "outputId": "4db5207e-d0df-47f2-d1d1-774f4172f28c"
      },
      "execution_count": 70,
      "outputs": [
        {
          "output_type": "stream",
          "name": "stderr",
          "text": [
            "/usr/local/lib/python3.10/dist-packages/keras/src/engine/training.py:3079: UserWarning: You are saving your model as an HDF5 file via `model.save()`. This file format is considered legacy. We recommend using instead the native Keras format, e.g. `model.save('my_model.keras')`.\n",
            "  saving_api.save_model(\n"
          ]
        }
      ]
    },
    {
      "cell_type": "code",
      "source": [
        "# different reward, Reward 2 in written report\n",
        "smiles_unbiased_2, prediction_unbiased_2, invalid_2 = benchmark_predicted_solubility(100)"
      ],
      "metadata": {
        "id": "yKDeYIOwDaoC"
      },
      "execution_count": 81,
      "outputs": []
    },
    {
      "cell_type": "code",
      "source": [
        "plt.hist(np.squeeze(prediction_unbiased_2), bins=15)\n",
        "plt.xlabel(\"Solubility\")\n",
        "plt.ylabel(\"Count\")"
      ],
      "metadata": {
        "colab": {
          "base_uri": "https://localhost:8080/",
          "height": 467
        },
        "id": "wtatImdVEAK6",
        "outputId": "cac4d35a-66a5-4a63-d9c0-414f995f5035"
      },
      "execution_count": 84,
      "outputs": [
        {
          "output_type": "execute_result",
          "data": {
            "text/plain": [
              "Text(0, 0.5, 'Count')"
            ]
          },
          "metadata": {},
          "execution_count": 84
        },
        {
          "output_type": "display_data",
          "data": {
            "text/plain": [
              "<Figure size 640x480 with 1 Axes>"
            ],
            "image/png": "[encoded data removed]"
          },
          "metadata": {}
        }
      ]
    },
    {
      "cell_type": "code",
      "source": [
        "run_iters(5)"
      ],
      "metadata": {
        "colab": {
          "base_uri": "https://localhost:8080/",
          "height": 449
        },
        "id": "WhxSVyxLETvS",
        "outputId": "54927ed0-315d-4dd7-d104-5476994b1241"
      },
      "execution_count": 98,
      "outputs": [
        {
          "output_type": "display_data",
          "data": {
            "text/plain": [
              "<Figure size 640x480 with 1 Axes>"
            ],
            "image/png": "[encoded data removed]"
          },
          "metadata": {}
        }
      ]
    },
    {
      "cell_type": "code",
      "source": [
        "smiles_biased_2, prediction_biased_2, invalid_biased_2 = benchmark_predicted_solubility(100)"
      ],
      "metadata": {
        "id": "AneLiQ4jOFk1"
      },
      "execution_count": 100,
      "outputs": []
    },
    {
      "cell_type": "code",
      "source": [
        "plt.hist(np.squeeze(prediction_biased_2), bins=15)\n",
        "plt.xlabel(\"Solubility\")\n",
        "plt.ylabel(\"Count\")"
      ],
      "metadata": {
        "colab": {
          "base_uri": "https://localhost:8080/",
          "height": 467
        },
        "id": "vGcNhD-JORef",
        "outputId": "8c591d13-32a2-4a06-e7d1-b3129437e67c"
      },
      "execution_count": 101,
      "outputs": [
        {
          "output_type": "execute_result",
          "data": {
            "text/plain": [
              "Text(0, 0.5, 'Count')"
            ]
          },
          "metadata": {},
          "execution_count": 101
        },
        {
          "output_type": "display_data",
          "data": {
            "text/plain": [
              "<Figure size 640x480 with 1 Axes>"
            ],
            "image/png": "[encoded data removed]"
          },
          "metadata": {}
        }
      ]
    },
    {
      "cell_type": "code",
      "source": [
        "top_idxs_2 = np.array(np.squeeze(prediction_biased_2.numpy())).argsort()"
      ],
      "metadata": {
        "id": "NZuS081VOqMX"
      },
      "execution_count": 102,
      "outputs": []
    },
    {
      "cell_type": "code",
      "source": [
        "sorted_smiles_biased_2 = [smiles_biased_2[idx] for idx in top_idxs_2]"
      ],
      "metadata": {
        "id": "GSZMDZH9Ov4U"
      },
      "execution_count": 103,
      "outputs": []
    },
    {
      "cell_type": "code",
      "source": [
        "sorted_smiles_biased_2"
      ],
      "metadata": {
        "colab": {
          "base_uri": "https://localhost:8080/"
        },
        "id": "xz0gRJPaO4NW",
        "outputId": "0675b42e-0079-4324-fa2b-5c8ebcd3fc70"
      },
      "execution_count": 104,
      "outputs": [
        {
          "output_type": "execute_result",
          "data": {
            "text/plain": [
              "['C',\n",
              " 'C',\n",
              " 'C',\n",
              " 'C',\n",
              " 'C',\n",
              " 'C',\n",
              " 'C',\n",
              " 'C',\n",
              " 'C',\n",
              " 'C',\n",
              " 'C',\n",
              " 'C',\n",
              " 'C',\n",
              " 'C',\n",
              " 'C',\n",
              " 'C',\n",
              " 'C',\n",
              " 'C',\n",
              " 'C',\n",
              " 'C',\n",
              " 'C',\n",
              " 'C',\n",
              " 'C',\n",
              " 'C',\n",
              " 'C',\n",
              " 'C',\n",
              " 'C',\n",
              " 'F',\n",
              " 'F',\n",
              " 'Br',\n",
              " 'O',\n",
              " 'O',\n",
              " 'O',\n",
              " 'O',\n",
              " 'O',\n",
              " 'O',\n",
              " 'O',\n",
              " 'CC',\n",
              " 'CF',\n",
              " 'CF',\n",
              " 'CF',\n",
              " 'CF',\n",
              " 'CF',\n",
              " 'CF',\n",
              " 'CF',\n",
              " 'CF',\n",
              " 'CF',\n",
              " 'CF',\n",
              " 'C=CSCF',\n",
              " 'C1#CC1[NH1]N=CCCF',\n",
              " 'CCl',\n",
              " 'CCF',\n",
              " 'CCF',\n",
              " 'CBr',\n",
              " 'CBr',\n",
              " 'CBr',\n",
              " 'C=P=CC#N',\n",
              " 'C#S',\n",
              " 'C=NNNF',\n",
              " 'C=1=C[NH1]N=1',\n",
              " 'CCC#N',\n",
              " 'OCl',\n",
              " 'C1=NNN1',\n",
              " 'C=1(CN=1)O',\n",
              " 'C#N',\n",
              " 'C#N',\n",
              " 'C#N',\n",
              " 'C#N',\n",
              " 'C#N',\n",
              " 'C#N',\n",
              " 'C#N',\n",
              " 'C#N',\n",
              " 'C#N',\n",
              " 'NCl',\n",
              " 'NCl',\n",
              " 'C=O',\n",
              " 'C=O',\n",
              " 'C=O',\n",
              " 'C=O',\n",
              " 'OBr',\n",
              " 'C=C[NH1]CF',\n",
              " 'C=NO',\n",
              " 'OP',\n",
              " 'NBr',\n",
              " 'C=1[NH1]N=1',\n",
              " 'CNBr',\n",
              " 'C[NH1]O',\n",
              " 'C=CNF',\n",
              " 'C[NH1]CF',\n",
              " 'C=CO',\n",
              " 'CCO',\n",
              " 'CCO',\n",
              " 'C1[NH1]N1',\n",
              " 'CNF',\n",
              " 'CNF',\n",
              " 'CNF',\n",
              " 'CNF',\n",
              " 'OC',\n",
              " 'CO',\n",
              " 'C[NH1]C']"
            ]
          },
          "metadata": {},
          "execution_count": 104
        }
      ]
    },
    {
      "cell_type": "code",
      "source": [
        "run_iters(5)"
      ],
      "metadata": {
        "colab": {
          "base_uri": "https://localhost:8080/",
          "height": 449
        },
        "id": "tJI9-AjmPiW2",
        "outputId": "3ab29b59-fd89-43e4-bf98-65bd485582e1"
      },
      "execution_count": 107,
      "outputs": [
        {
          "output_type": "display_data",
          "data": {
            "text/plain": [
              "<Figure size 640x480 with 1 Axes>"
            ],
            "image/png": "[encoded data removed]"
          },
          "metadata": {}
        }
      ]
    },
    {
      "cell_type": "code",
      "source": [
        "smiles_biased_3, prediction_biased_3, invalid_biased_3 = benchmark_predicted_solubility(100)"
      ],
      "metadata": {
        "id": "W7_AT5g0Q-XD"
      },
      "execution_count": 108,
      "outputs": []
    },
    {
      "cell_type": "code",
      "source": [
        "plt.hist(np.squeeze(prediction_biased_3), bins=15)\n",
        "plt.xlabel(\"Solubility\")\n",
        "plt.ylabel(\"Count\")"
      ],
      "metadata": {
        "colab": {
          "base_uri": "https://localhost:8080/",
          "height": 467
        },
        "id": "pcCSSRNtRVmH",
        "outputId": "a91a0409-8373-4858-adf7-6fd0528a837d"
      },
      "execution_count": 109,
      "outputs": [
        {
          "output_type": "execute_result",
          "data": {
            "text/plain": [
              "Text(0, 0.5, 'Count')"
            ]
          },
          "metadata": {},
          "execution_count": 109
        },
        {
          "output_type": "display_data",
          "data": {
            "text/plain": [
              "<Figure size 640x480 with 1 Axes>"
            ],
            "image/png": "[encoded data removed]"
          },
          "metadata": {}
        }
      ]
    },
    {
      "cell_type": "code",
      "source": [
        "# all \"None\" rewards are insoluble molecules"
      ],
      "metadata": {
        "id": "XDqwOXphCYDx"
      },
      "execution_count": null,
      "outputs": []
    },
    {
      "cell_type": "code",
      "source": [
        "rewards"
      ],
      "metadata": {
        "colab": {
          "base_uri": "https://localhost:8080/"
        },
        "id": "VFxjat38YSfo",
        "outputId": "e788d867-bad0-41b9-99ca-3fd3fcaa0e40"
      },
      "execution_count": 110,
      "outputs": [
        {
          "output_type": "execute_result",
          "data": {
            "text/plain": [
              "[1.8433232307434082,\n",
              " 2.648832678794861,\n",
              " 2.7597979307174683,\n",
              " 2.8763517141342163,\n",
              " 4.97633695602417,\n",
              " None,\n",
              " 4.286500185728073,\n",
              " None,\n",
              " None,\n",
              " None,\n",
              " None,\n",
              " 5.286503314971924,\n",
              " 4.527799129486084,\n",
              " 4.055171579122543,\n",
              " 2.958439588546753,\n",
              " 2.8333938121795654,\n",
              " 4.2775019109249115,\n",
              " None,\n",
              " 2.8333938121795654,\n",
              " None,\n",
              " 2.641049385070801,\n",
              " 3.3709205389022827,\n",
              " 4.302522927522659,\n",
              " None,\n",
              " 4.582914710044861]"
            ]
          },
          "metadata": {},
          "execution_count": 110
        }
      ]
    },
    {
      "cell_type": "code",
      "source": [
        "# Test adding to existing molecule (MMLI top performer)"
      ],
      "metadata": {
        "id": "xpOtS__GCWgg"
      },
      "execution_count": null,
      "outputs": []
    },
    {
      "cell_type": "code",
      "source": [
        "smiles_unbiased_3, prediction_unbiased_3, invalid_3 = benchmark_predicted_solubility(100)"
      ],
      "metadata": {
        "colab": {
          "base_uri": "https://localhost:8080/"
        },
        "id": "4XwotsrUZQkB",
        "outputId": "a91c42cd-071f-4f8c-cb4d-02d2d621db24"
      },
      "execution_count": 10,
      "outputs": [
        {
          "output_type": "stream",
          "name": "stderr",
          "text": [
            "[15:45:55] Explicit valence for atom # 26 C, 5, is greater than permitted\n",
            "[15:45:55] Explicit valence for atom # 26 O, 3, is greater than permitted\n",
            "[15:45:55] Explicit valence for atom # 26 O, 3, is greater than permitted\n",
            "[15:45:55] Explicit valence for atom # 26 O, 3, is greater than permitted\n",
            "[15:45:55] Explicit valence for atom # 26 O, 3, is greater than permitted\n",
            "[15:45:55] Explicit valence for atom # 26 O, 3, is greater than permitted\n",
            "[15:45:56] Explicit valence for atom # 26 O, 3, is greater than permitted\n",
            "[15:45:56] Explicit valence for atom # 26 O, 3, is greater than permitted\n",
            "[15:45:57] Explicit valence for atom # 26 O, 3, is greater than permitted\n",
            "[15:45:57] Explicit valence for atom # 26 O, 3, is greater than permitted\n",
            "[15:45:57] Explicit valence for atom # 26 C, 5, is greater than permitted\n",
            "[15:45:57] Explicit valence for atom # 26 C, 5, is greater than permitted\n",
            "[15:45:57] Explicit valence for atom # 26 O, 3, is greater than permitted\n",
            "[15:45:58] Explicit valence for atom # 26 C, 5, is greater than permitted\n"
          ]
        }
      ]
    },
    {
      "cell_type": "code",
      "source": [
        "plt.hist(np.squeeze(prediction_unbiased_3), bins=15)\n",
        "plt.xlabel(\"Solubility\")\n",
        "plt.ylabel(\"Count\")"
      ],
      "metadata": {
        "colab": {
          "base_uri": "https://localhost:8080/",
          "height": 467
        },
        "id": "pN2jBCBGaHvk",
        "outputId": "ea51fb2e-e5ae-4ff7-d796-8cd9a16c2ae2"
      },
      "execution_count": 11,
      "outputs": [
        {
          "output_type": "execute_result",
          "data": {
            "text/plain": [
              "Text(0, 0.5, 'Count')"
            ]
          },
          "metadata": {},
          "execution_count": 11
        },
        {
          "output_type": "display_data",
          "data": {
            "text/plain": [
              "<Figure size 640x480 with 1 Axes>"
            ],
            "image/png": "[encoded data removed]"
          },
          "metadata": {}
        }
      ]
    },
    {
      "cell_type": "code",
      "source": [
        "run_iters(1)"
      ],
      "metadata": {
        "colab": {
          "base_uri": "https://localhost:8080/",
          "height": 449
        },
        "id": "kf2BViSZaQ9e",
        "outputId": "cbfd65ad-9d14-485e-a929-4f913eb43282"
      },
      "execution_count": 15,
      "outputs": [
        {
          "output_type": "display_data",
          "data": {
            "text/plain": [
              "<Figure size 640x480 with 1 Axes>"
            ],
            "image/png": "[encoded data removed]"
          },
          "metadata": {}
        }
      ]
    },
    {
      "cell_type": "code",
      "source": [
        "rewards"
      ],
      "metadata": {
        "colab": {
          "base_uri": "https://localhost:8080/"
        },
        "id": "Nd6Gp2QIeBBJ",
        "outputId": "d506a557-4758-4a77-bc95-b7ccde5476b2"
      },
      "execution_count": 16,
      "outputs": [
        {
          "output_type": "execute_result",
          "data": {
            "text/plain": [
              "[3.235414981842041]"
            ]
          },
          "metadata": {},
          "execution_count": 16
        }
      ]
    },
    {
      "cell_type": "code",
      "source": [
        "run_iters(1)"
      ],
      "metadata": {
        "colab": {
          "base_uri": "https://localhost:8080/",
          "height": 449
        },
        "id": "-cj1zGt6eDhT",
        "outputId": "bd6ee3eb-62ed-4a2f-913b-6fae3c2c97a6"
      },
      "execution_count": 17,
      "outputs": [
        {
          "output_type": "display_data",
          "data": {
            "text/plain": [
              "<Figure size 640x480 with 1 Axes>"
            ],
            "image/png": "[encoded data removed]"
          },
          "metadata": {}
        }
      ]
    },
    {
      "cell_type": "code",
      "source": [
        "run_iters(1)"
      ],
      "metadata": {
        "colab": {
          "base_uri": "https://localhost:8080/",
          "height": 467
        },
        "id": "g1fINdSxeH_Q",
        "outputId": "834bcf25-4aff-4c64-a843-8a5f6b66b79f"
      },
      "execution_count": 18,
      "outputs": [
        {
          "output_type": "stream",
          "name": "stderr",
          "text": [
            "[15:47:28] Explicit valence for atom # 26 C, 5, is greater than permitted\n"
          ]
        },
        {
          "output_type": "display_data",
          "data": {
            "text/plain": [
              "<Figure size 640x480 with 1 Axes>"
            ],
            "image/png": "[encoded data removed]"
          },
          "metadata": {}
        }
      ]
    },
    {
      "cell_type": "code",
      "source": [
        "run_iters(1)"
      ],
      "metadata": {
        "colab": {
          "base_uri": "https://localhost:8080/",
          "height": 449
        },
        "id": "eouXc0MXeJz4",
        "outputId": "eb2f0066-486c-4748-d3a8-e7e018dfdd0e"
      },
      "execution_count": 19,
      "outputs": [
        {
          "output_type": "display_data",
          "data": {
            "text/plain": [
              "<Figure size 640x480 with 1 Axes>"
            ],
            "image/png": "[encoded data removed]"
          },
          "metadata": {}
        }
      ]
    },
    {
      "cell_type": "code",
      "source": [
        "run_iters(1)"
      ],
      "metadata": {
        "colab": {
          "base_uri": "https://localhost:8080/",
          "height": 449
        },
        "id": "S-hq5rNeeLxN",
        "outputId": "5b76fa45-bbf6-4e39-c2df-3b56b5ba8c5a"
      },
      "execution_count": 20,
      "outputs": [
        {
          "output_type": "display_data",
          "data": {
            "text/plain": [
              "<Figure size 640x480 with 1 Axes>"
            ],
            "image/png": "[encoded data removed]"
          },
          "metadata": {}
        }
      ]
    },
    {
      "cell_type": "code",
      "source": [
        "smiles_biased_4, prediction_biased_4, invalid_4 = benchmark_predicted_solubility(100)"
      ],
      "metadata": {
        "colab": {
          "base_uri": "https://localhost:8080/"
        },
        "id": "1bGODM9ofNG2",
        "outputId": "acd6c8b4-35d9-4637-81eb-d94ba6a31211"
      },
      "execution_count": 21,
      "outputs": [
        {
          "output_type": "stream",
          "name": "stderr",
          "text": [
            "[16:31:31] Explicit valence for atom # 26 C, 5, is greater than permitted\n",
            "[16:31:32] Explicit valence for atom # 26 C, 5, is greater than permitted\n",
            "[16:31:32] Explicit valence for atom # 26 C, 5, is greater than permitted\n",
            "[16:31:32] Explicit valence for atom # 26 C, 5, is greater than permitted\n",
            "[16:31:32] Explicit valence for atom # 26 C, 5, is greater than permitted\n",
            "[16:31:32] Explicit valence for atom # 26 C, 5, is greater than permitted\n",
            "[16:31:32] Explicit valence for atom # 26 O, 3, is greater than permitted\n",
            "[16:31:32] Explicit valence for atom # 26 C, 5, is greater than permitted\n",
            "[16:31:32] Explicit valence for atom # 26 C, 5, is greater than permitted\n",
            "[16:31:32] Explicit valence for atom # 26 C, 5, is greater than permitted\n",
            "[16:31:32] Explicit valence for atom # 26 C, 5, is greater than permitted\n",
            "[16:31:32] Explicit valence for atom # 26 C, 5, is greater than permitted\n",
            "[16:31:32] Explicit valence for atom # 26 C, 5, is greater than permitted\n",
            "[16:31:32] Explicit valence for atom # 26 C, 5, is greater than permitted\n",
            "[16:31:32] Explicit valence for atom # 26 C, 5, is greater than permitted\n",
            "[16:31:32] Explicit valence for atom # 26 C, 5, is greater than permitted\n",
            "[16:31:32] Explicit valence for atom # 26 C, 5, is greater than permitted\n",
            "[16:31:32] Explicit valence for atom # 26 C, 5, is greater than permitted\n",
            "[16:31:32] Explicit valence for atom # 26 C, 5, is greater than permitted\n",
            "[16:31:33] Explicit valence for atom # 26 C, 5, is greater than permitted\n",
            "[16:31:33] Explicit valence for atom # 26 C, 5, is greater than permitted\n"
          ]
        }
      ]
    },
    {
      "cell_type": "code",
      "source": [
        "len(smiles_biased_4)"
      ],
      "metadata": {
        "colab": {
          "base_uri": "https://localhost:8080/"
        },
        "id": "z8AsqNE3gA1H",
        "outputId": "8943e551-82b4-4a34-e590-6713d9c9f290"
      },
      "execution_count": 22,
      "outputs": [
        {
          "output_type": "execute_result",
          "data": {
            "text/plain": [
              "79"
            ]
          },
          "metadata": {},
          "execution_count": 22
        }
      ]
    },
    {
      "cell_type": "code",
      "source": [
        "plt.hist(np.squeeze(prediction_biased_4), bins=15)\n",
        "plt.xlabel(\"Solubility\")\n",
        "plt.ylabel(\"Count\")"
      ],
      "metadata": {
        "colab": {
          "base_uri": "https://localhost:8080/",
          "height": 467
        },
        "id": "Wz6XE1VxfZFm",
        "outputId": "7f1ed082-335b-466f-d998-53d542f600ea"
      },
      "execution_count": 24,
      "outputs": [
        {
          "output_type": "execute_result",
          "data": {
            "text/plain": [
              "Text(0, 0.5, 'Count')"
            ]
          },
          "metadata": {},
          "execution_count": 24
        },
        {
          "output_type": "display_data",
          "data": {
            "text/plain": [
              "<Figure size 640x480 with 1 Axes>"
            ],
            "image/png": "[encoded data removed]"
          },
          "metadata": {}
        }
      ]
    },
    {
      "cell_type": "code",
      "source": [
        "smiles_biased_4"
      ],
      "metadata": {
        "colab": {
          "base_uri": "https://localhost:8080/"
        },
        "id": "-OPNwRXPgTpW",
        "outputId": "98d9a5e2-39c8-4785-e681-e5d00e9340ee"
      },
      "execution_count": 25,
      "outputs": [
        {
          "output_type": "execute_result",
          "data": {
            "text/plain": [
              "['N',\n",
              " 'CO',\n",
              " 'C=1CN=1',\n",
              " 'C=O',\n",
              " 'C#N',\n",
              " 'C=NO',\n",
              " 'O',\n",
              " 'C#N',\n",
              " 'C=O',\n",
              " 'CO',\n",
              " 'Br',\n",
              " 'C#N',\n",
              " 'C#N',\n",
              " 'CO',\n",
              " 'C(C)=O',\n",
              " 'C=O',\n",
              " 'C',\n",
              " 'C',\n",
              " 'CO',\n",
              " 'C#N',\n",
              " 'C',\n",
              " 'CO',\n",
              " 'C',\n",
              " 'O',\n",
              " 'C=O',\n",
              " 'CO',\n",
              " 'C',\n",
              " 'F',\n",
              " 'N',\n",
              " 'C#N',\n",
              " 'CO',\n",
              " 'C#N',\n",
              " 'O',\n",
              " 'C#N',\n",
              " 'C',\n",
              " 'C',\n",
              " 'O',\n",
              " 'CO',\n",
              " 'C#N',\n",
              " 'C',\n",
              " 'CO',\n",
              " 'CO',\n",
              " 'CO',\n",
              " 'CO',\n",
              " 'F',\n",
              " 'CO',\n",
              " 'C#N',\n",
              " 'C#C',\n",
              " 'O',\n",
              " 'C#N',\n",
              " 'CF',\n",
              " 'O',\n",
              " 'C#N',\n",
              " 'CO',\n",
              " 'O',\n",
              " 'O',\n",
              " 'C#N',\n",
              " 'CO',\n",
              " 'CO',\n",
              " 'C#N',\n",
              " 'C#N',\n",
              " 'C#N',\n",
              " 'C#N',\n",
              " 'C',\n",
              " 'C#N',\n",
              " 'O',\n",
              " 'C#N',\n",
              " 'C#N',\n",
              " 'C',\n",
              " 'C#N',\n",
              " 'C#N',\n",
              " 'CO',\n",
              " 'O',\n",
              " 'N',\n",
              " 'CO',\n",
              " 'O',\n",
              " 'O',\n",
              " 'C#N',\n",
              " 'O']"
            ]
          },
          "metadata": {},
          "execution_count": 25
        }
      ]
    },
    {
      "cell_type": "code",
      "source": [
        "top_idxs_4 = np.array(np.squeeze(prediction_biased_4.numpy())).argsort()"
      ],
      "metadata": {
        "id": "rCXZbDTuDJj5"
      },
      "execution_count": 30,
      "outputs": []
    },
    {
      "cell_type": "code",
      "source": [
        "sorted_smiles_biased_4 = [smiles_biased_4[idx] for idx in top_idxs_4]"
      ],
      "metadata": {
        "id": "hehHI3EXDO0Q"
      },
      "execution_count": 31,
      "outputs": []
    },
    {
      "cell_type": "code",
      "source": [
        "prediction_biased_4"
      ],
      "metadata": {
        "colab": {
          "base_uri": "https://localhost:8080/"
        },
        "id": "e1jhmjeCDiDA",
        "outputId": "a5b09782-c18c-4b4c-c033-b3a21c21f8f5"
      },
      "execution_count": 34,
      "outputs": [
        {
          "output_type": "execute_result",
          "data": {
            "text/plain": [
              "<tf.Tensor: shape=(79, 1), dtype=float32, numpy=\n",
              "array([[-5.971916 ],\n",
              "       [-5.6476316],\n",
              "       [-6.6034036],\n",
              "       [-5.3159285],\n",
              "       [-5.2681212],\n",
              "       [-6.3927283],\n",
              "       [-5.553322 ],\n",
              "       [-5.2681212],\n",
              "       [-5.3159285],\n",
              "       [-5.6476316],\n",
              "       [-4.9100647],\n",
              "       [-5.2681212],\n",
              "       [-5.2681212],\n",
              "       [-5.6476316],\n",
              "       [-5.33013  ],\n",
              "       [-5.3159285],\n",
              "       [-4.8929553],\n",
              "       [-4.8929553],\n",
              "       [-5.6476316],\n",
              "       [-5.2681212],\n",
              "       [-4.8929553],\n",
              "       [-5.6476316],\n",
              "       [-4.8929553],\n",
              "       [-5.553322 ],\n",
              "       [-5.3159285],\n",
              "       [-5.6476316],\n",
              "       [-4.8929553],\n",
              "       [-5.1742177],\n",
              "       [-5.971916 ],\n",
              "       [-5.2681212],\n",
              "       [-5.6476316],\n",
              "       [-5.2681212],\n",
              "       [-5.553322 ],\n",
              "       [-5.2681212],\n",
              "       [-4.8929553],\n",
              "       [-4.8929553],\n",
              "       [-5.553322 ],\n",
              "       [-5.6476316],\n",
              "       [-5.2681212],\n",
              "       [-4.8929553],\n",
              "       [-5.6476316],\n",
              "       [-5.6476316],\n",
              "       [-5.6476316],\n",
              "       [-5.6476316],\n",
              "       [-5.1742177],\n",
              "       [-5.6476316],\n",
              "       [-5.2681212],\n",
              "       [-6.343554 ],\n",
              "       [-5.553322 ],\n",
              "       [-5.2681212],\n",
              "       [-5.180646 ],\n",
              "       [-5.553322 ],\n",
              "       [-5.2681212],\n",
              "       [-5.6476316],\n",
              "       [-5.553322 ],\n",
              "       [-5.553322 ],\n",
              "       [-5.2681212],\n",
              "       [-5.6476316],\n",
              "       [-5.6476316],\n",
              "       [-5.2681212],\n",
              "       [-5.2681212],\n",
              "       [-5.2681212],\n",
              "       [-5.2681212],\n",
              "       [-4.8929553],\n",
              "       [-5.2681212],\n",
              "       [-5.553322 ],\n",
              "       [-5.2681212],\n",
              "       [-5.2681212],\n",
              "       [-4.8929553],\n",
              "       [-5.2681212],\n",
              "       [-5.2681212],\n",
              "       [-5.6476316],\n",
              "       [-5.553322 ],\n",
              "       [-5.971916 ],\n",
              "       [-5.6476316],\n",
              "       [-5.553322 ],\n",
              "       [-5.553322 ],\n",
              "       [-5.2681217],\n",
              "       [-5.553321 ]], dtype=float32)>"
            ]
          },
          "metadata": {},
          "execution_count": 34
        }
      ]
    },
    {
      "cell_type": "code",
      "source": [
        "top_idxs_4"
      ],
      "metadata": {
        "colab": {
          "base_uri": "https://localhost:8080/"
        },
        "id": "P0kR5baCD53g",
        "outputId": "015dc4ef-6f60-4106-ba20-dc7b965ae04f"
      },
      "execution_count": 35,
      "outputs": [
        {
          "output_type": "execute_result",
          "data": {
            "text/plain": [
              "array([ 2,  5, 47, 28, 73,  0, 41, 45, 21, 43, 53, 18, 37,  1, 57, 13, 25,\n",
              "       71, 30,  9, 40, 74, 58, 42, 32, 54, 48, 51, 55, 65, 72,  6, 75, 76,\n",
              "       23, 36, 78, 14, 15,  3, 24,  8, 77, 66, 12, 64, 70, 62, 61, 60, 59,\n",
              "       11, 56, 52, 67,  7, 49,  4, 46, 29, 31, 33, 38, 19, 69, 50, 44, 27,\n",
              "       10, 34, 63, 35, 16, 17, 20, 22, 26, 68, 39])"
            ]
          },
          "metadata": {},
          "execution_count": 35
        }
      ]
    },
    {
      "cell_type": "code",
      "source": [
        "sorted_smiles_biased_4"
      ],
      "metadata": {
        "colab": {
          "base_uri": "https://localhost:8080/"
        },
        "id": "bnq-hUFjDVrh",
        "outputId": "69ddbff1-2b70-4afd-bd51-db5d173f6f1d"
      },
      "execution_count": 33,
      "outputs": [
        {
          "output_type": "execute_result",
          "data": {
            "text/plain": [
              "['C=1CN=1',\n",
              " 'C=NO',\n",
              " 'C#C',\n",
              " 'N',\n",
              " 'N',\n",
              " 'N',\n",
              " 'CO',\n",
              " 'CO',\n",
              " 'CO',\n",
              " 'CO',\n",
              " 'CO',\n",
              " 'CO',\n",
              " 'CO',\n",
              " 'CO',\n",
              " 'CO',\n",
              " 'CO',\n",
              " 'CO',\n",
              " 'CO',\n",
              " 'CO',\n",
              " 'CO',\n",
              " 'CO',\n",
              " 'CO',\n",
              " 'CO',\n",
              " 'CO',\n",
              " 'O',\n",
              " 'O',\n",
              " 'O',\n",
              " 'O',\n",
              " 'O',\n",
              " 'O',\n",
              " 'O',\n",
              " 'O',\n",
              " 'O',\n",
              " 'O',\n",
              " 'O',\n",
              " 'O',\n",
              " 'O',\n",
              " 'C(C)=O',\n",
              " 'C=O',\n",
              " 'C=O',\n",
              " 'C=O',\n",
              " 'C=O',\n",
              " 'C#N',\n",
              " 'C#N',\n",
              " 'C#N',\n",
              " 'C#N',\n",
              " 'C#N',\n",
              " 'C#N',\n",
              " 'C#N',\n",
              " 'C#N',\n",
              " 'C#N',\n",
              " 'C#N',\n",
              " 'C#N',\n",
              " 'C#N',\n",
              " 'C#N',\n",
              " 'C#N',\n",
              " 'C#N',\n",
              " 'C#N',\n",
              " 'C#N',\n",
              " 'C#N',\n",
              " 'C#N',\n",
              " 'C#N',\n",
              " 'C#N',\n",
              " 'C#N',\n",
              " 'C#N',\n",
              " 'CF',\n",
              " 'F',\n",
              " 'F',\n",
              " 'Br',\n",
              " 'C',\n",
              " 'C',\n",
              " 'C',\n",
              " 'C',\n",
              " 'C',\n",
              " 'C',\n",
              " 'C',\n",
              " 'C',\n",
              " 'C',\n",
              " 'C']"
            ]
          },
          "metadata": {},
          "execution_count": 33
        }
      ]
    }
  ]
}